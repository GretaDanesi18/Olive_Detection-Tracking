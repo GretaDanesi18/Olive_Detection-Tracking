{
  "nbformat": 4,
  "nbformat_minor": 0,
  "metadata": {
    "colab": {
      "name": "YOLOv5_TDet.ipynb",
      "provenance": [],
      "collapsed_sections": [],
      "mount_file_id": "1W5GvN_ldlEwH-iixj1C2a9GLlEw-AgEH",
      "authorship_tag": "ABX9TyNpimv2qcFetn3gBNFBNL2e",
      "include_colab_link": true
    },
    "kernelspec": {
      "name": "python3",
      "display_name": "Python 3"
    },
    "language_info": {
      "name": "python"
    },
    "accelerator": "GPU",
    "gpuClass": "standard"
  },
  "cells": [
    {
      "cell_type": "markdown",
      "metadata": {
        "id": "view-in-github",
        "colab_type": "text"
      },
      "source": [
        "<a href=\"https://colab.research.google.com/github/GretaDanesi18/Olive_Detection_Tracking/blob/main/target_detector/YOLOv5_TDet.ipynb\" target=\"_parent\"><img src=\"https://colab.research.google.com/assets/colab-badge.svg\" alt=\"Open In Colab\"/></a>"
      ]
    },
    {
      "cell_type": "markdown",
      "source": [
        "## **SETUP**"
      ],
      "metadata": {
        "id": "GxPdSlsjKIHo"
      }
    },
    {
      "cell_type": "markdown",
      "source": [
        "Per prima cosa importiamo le librerie necessarie"
      ],
      "metadata": {
        "id": "RvxnaUNGBCfU"
      }
    },
    {
      "cell_type": "code",
      "execution_count": null,
      "metadata": {
        "id": "Ttf8iO2r7-KL"
      },
      "outputs": [],
      "source": [
        "import torch \n",
        "import os\n",
        "import random \n",
        "import shutil\n",
        "import glob\n",
        "from IPython.display import Image,display\n",
        "from PIL import Image, ImageDraw\n",
        "import cv2\n",
        "import pandas as pd\n",
        "import subprocess\n",
        "from numpy import source\n"
      ]
    },
    {
      "cell_type": "markdown",
      "source": [
        "Controlliamo l'utilizzo del device GPU oppure CPU"
      ],
      "metadata": {
        "id": "wGdE_ROSBIhE"
      }
    },
    {
      "cell_type": "code",
      "execution_count": null,
      "metadata": {
        "id": "jhG6CGpt0mQ5"
      },
      "outputs": [],
      "source": [
        "if torch.cuda.is_available():\n",
        "    device = torch.device('cuda')\n",
        "else:\n",
        "    device = torch.device('cpu')\n",
        "    \n",
        "print('Using PyTorch version:', torch.__version__, ' Device:', device)"
      ]
    },
    {
      "cell_type": "markdown",
      "source": [
        "Successivamente cloniamo la repo contente YOLOv5 e installiamo i requisiti"
      ],
      "metadata": {
        "id": "MSsEQC1mAh7A"
      }
    },
    {
      "cell_type": "code",
      "execution_count": null,
      "metadata": {
        "id": "rJLPGLRQgDJQ"
      },
      "outputs": [],
      "source": [
        "!git clone https://github.com/ultralytics/yolov5\n",
        "%cd yolov5\n",
        "!pip install -r requirements.txt"
      ]
    },
    {
      "cell_type": "markdown",
      "source": [
        "##**CREAZIONE DATASET TARGET DETECTOR**"
      ],
      "metadata": {
        "id": "N2hQdxxgLCpx"
      }
    },
    {
      "cell_type": "markdown",
      "source": [
        "Caricare la cartella contenente le pseudo labelsgenerate tramite i software contenuti nella seguente repo:\n",
        "https://github.com/Lio320/GraphTracking.git\n",
        "\n",
        "Possiamo caricarle in diversi modi:\n",
        "\n",
        "\n",
        "* in locale \n",
        "```\n",
        "from google.colab import files\n",
        "uploaded = files.upload()\n",
        "```\n",
        "*  con google drive\n",
        "```\n",
        "from google.colab import drive\n",
        "drive.mount('/content/gdrive')\n",
        "```\n",
        "* con github\n",
        "\n",
        " ```\n",
        " !git clone \"inserire url della repo in cui si trovano le pseudo labels\"\n",
        " ```"
      ],
      "metadata": {
        "id": "uaKfH0WTMlKW"
      }
    },
    {
      "cell_type": "code",
      "source": [
        "!git clone https://github.com/GretaDanesi18/Olive_Detection_Tracking.git"
      ],
      "metadata": {
        "id": "CHcB434BgmfI"
      },
      "execution_count": null,
      "outputs": []
    },
    {
      "cell_type": "markdown",
      "source": [
        "Creiamo le cartellle per il dataset del target detector.\n",
        "\n",
        "La struttura del dataset del target detector è la stessa del source detector con l'aggiunta delle cartella per il test\n",
        "\n",
        "\n"
      ],
      "metadata": {
        "id": "TSTApL8AXSKn"
      }
    },
    {
      "cell_type": "markdown",
      "source": [
        "```\n",
        "/path/to/dataset/...\n",
        "Sfm\n",
        "  +--images\n",
        "  |   +---train\n",
        "         +-----image_1.jpg\n",
        "         +-----image_2.jpg\n",
        "         +-----image_n.jpg\n",
        "  |   +---val\n",
        "        +-----image_1.jpg\n",
        "        +-----image_2.jpg\n",
        "        +-----image_n.jpg\n",
        "  +--labels\n",
        "  |   +---train\n",
        "         +-----label_1.txt\n",
        "         +-----label_2.txt\n",
        "         +-----label_n.txt\n",
        "  |   +---val\n",
        "        +-----label_1.txt\n",
        "        +-----label_2.txt\n",
        "        +-----label_n.txt\n",
        "features\n",
        "  +--images\n",
        "  |   +---train\n",
        "        +-----image_1.jpg\n",
        "         +-----image_2.jpg\n",
        "         +-----image_n.jpg\n",
        "  |   +---val\n",
        "        +-----image_1.jpg\n",
        "        +-----image_2.jpg\n",
        "        +-----image_n.jpg\n",
        "  +--labels\n",
        "  |   +---train\n",
        "         +-----label_1.txt\n",
        "         +-----label_2.txt\n",
        "         +-----label_n.txt\n",
        "  |   +---val\n",
        "        +-----label_1.txt\n",
        "        +-----label_2.txt\n",
        "        +-----label_n.txt\n",
        "\n",
        "\n",
        "+---test\n",
        "  +--labels\n",
        "        +-----label_1.txt\n",
        "        +-----label_2.txt\n",
        "        +-----label_n.txt\n",
        "  +--images\n",
        "        +-----image_1.jpg\n",
        "        +-----image_2.jpg\n",
        "        +-----image_n.jpg\n",
        "\n",
        "```\n"
      ],
      "metadata": {
        "id": "IfJJbvJbE8g_"
      }
    },
    {
      "cell_type": "code",
      "source": [
        "try:\n",
        "  if not os.path.exists('/content/yolov5/Olive_Detection_Tracking/Pseudo_Labels/features/images/train'):\n",
        "    os.makedirs('/content/yolov5/Olive_Detection_Tracking/Pseudo_Labels/features/images/train')\n",
        "\n",
        "except OSError:\n",
        "    print('Errore nella creazione della cartella Pseudo_Labels/features/images/train')\n",
        "\n",
        "try:\n",
        "  if not os.path.exists('/content/yolov5/Olive_Detection_Tracking/Pseudo_Labels/features/images/val'):\n",
        "    os.makedirs('/content/yolov5/Olive_Detection_Tracking/Pseudo_Labels/features/images/val')\n",
        "\n",
        "except OSError:\n",
        "    print('Errore nella creazione della cartella Pseudo_Labels/features/images/val')\n",
        "\n",
        "try:\n",
        "  if not os.path.exists('/content/yolov5/Olive_Detection_Tracking/Pseudo_Labels/Sfm/images/train'):\n",
        "    os.makedirs('/content/yolov5/Olive_Detection_Tracking/Pseudo_Labels/Sfm/images/train')\n",
        "\n",
        "except OSError:\n",
        "    print('Errore nella creazione della cartella Pseudo_Labels/Sfm/images/train')\n",
        "\n",
        "try:\n",
        "  if not os.path.exists('/content/yolov5/Olive_Detection_Tracking/Pseudo_Labels/Sfm/images/val'):\n",
        "    os.makedirs('/content/yolov5/Olive_Detection_Tracking/Pseudo_Labels/Sfm/images/val')\n",
        "\n",
        "except OSError:\n",
        "    print('Errore nella creazione della cartella Pseudo_Labels/Sfm/images/val')\n",
        "\n",
        "\n",
        "try:\n",
        "  if not os.path.exists('/content/yolov5/Olive_Detection_Tracking/Pseudo_Labels/features/labels/train'):\n",
        "    os.makedirs('/content/yolov5/Olive_Detection_Tracking/Pseudo_Labels/features/labels/train')\n",
        "\n",
        "except OSError:\n",
        "    print('Errore nella creazione della cartella Pseudo_Labels/features/labels/train')\n",
        "\n",
        "\n",
        "try:\n",
        "  if not os.path.exists('/content/yolov5/Olive_Detection_Tracking/Pseudo_Labels/features/labels/val'):\n",
        "    os.makedirs('/content/yolov5/Olive_Detection_Tracking/Pseudo_Labels/features/labels/val')\n",
        "\n",
        "except OSError:\n",
        "    print('Errore nella creazione della cartella Pseudo_Labels/features/labels/val')\n",
        "\n",
        "\n",
        "try:\n",
        "  if not os.path.exists('/content/yolov5/Olive_Detection_Tracking/Pseudo_Labels/Sfm/labels/train'):\n",
        "    os.makedirs('/content/yolov5/Olive_Detection_Tracking/Pseudo_Labels/Sfm/labels/train')\n",
        "\n",
        "except OSError:\n",
        "    print('Errore nella creazione della cartella Pseudo_Labels/Sfm/labels/train')\n",
        "\n",
        "\n",
        "try:\n",
        "  if not os.path.exists('/content/yolov5/Olive_Detection_Tracking/Pseudo_Labels/Sfm/labels/val'):\n",
        "    os.makedirs('/content/yolov5/Olive_Detection_Tracking/Pseudo_Labels/Sfm/labels/val')\n",
        "\n",
        "except OSError:\n",
        "    print('Errore nella creazione della cartella Pseudo_Labels/Sfm/labels/val')\n"
      ],
      "metadata": {
        "id": "NRclyZcbRJ7n"
      },
      "execution_count": null,
      "outputs": []
    },
    {
      "cell_type": "markdown",
      "source": [
        "Faccio lo split del target dataset cosi da ottenere il dataset per il training e per la validation"
      ],
      "metadata": {
        "id": "ZAth0FycOMG5"
      }
    },
    {
      "cell_type": "code",
      "source": [
        "#path Sfm\n",
        "Sfm_images_path = '/content/yolov5/Olive_Detection_Tracking/target_detector/pseudo_labels_dataset/SfmLabels/results_2/images'\n",
        "Sfm_labels_path = '/content/yolov5/Olive_Detection_Tracking/target_detector/pseudo_labels_dataset/SfmLabels/results_2/labels'\n",
        "Sfm_train_image_path = '/content/yolov5/Olive_Detection_Tracking/Pseudo_Labels/Sfm/images/train'\n",
        "Sfm_val_image_path = '/content/yolov5/Olive_Detection_Tracking/Pseudo_Labels/Sfm/images/val'\n",
        "Sfm_train_label_path ='/content/yolov5/Olive_Detection_Tracking/Pseudo_Labels/Sfm/labels/train'\n",
        "Sfm_val_label_path = '/content/yolov5/Olive_Detection_Tracking/Pseudo_Labels/Sfm/labels/val'\n",
        "\n",
        "#path features\n",
        "features_images_path = '/content/yolov5/Olive_Detection_Tracking/target_detector/pseudo_labels_dataset/features_label/results_2/images'\n",
        "features_labels_path = '/content/yolov5/Olive_Detection_Tracking/target_detector/pseudo_labels_dataset/features_label/results_2/labels'\n",
        "features_train_image_path = '/content/yolov5/Olive_Detection_Tracking/Pseudo_Labels/features/images/train'\n",
        "features_val_image_path = '/content/yolov5/Olive_Detection_Tracking/Pseudo_Labels/features/images/val'\n",
        "features_train_label_path ='/content/yolov5/Olive_Detection_Tracking/Pseudo_Labels/features/labels/train'\n",
        "features_val_label_path = '/content/yolov5/Olive_Detection_Tracking/Pseudo_Labels/features/labels/val'\n",
        "\n",
        "#percentuale per train, val\n",
        "Sfm_val_ratio = 0.2\n",
        "Sfm_train_ratio = 0.8\n",
        "\n",
        "features_val_ratio = 0.2\n",
        "features_train_ratio = 0.8\n",
        "\n",
        "Sfm_lista_label = sorted(os.listdir(Sfm_labels_path))\n",
        "Sfm_lista_image = sorted(os.listdir(Sfm_images_path))\n",
        "features_lista_label = sorted(os.listdir(features_labels_path))\n",
        "features_lista_image = sorted(os.listdir(features_images_path))\n"
      ],
      "metadata": {
        "id": "PTUs16vCTxef"
      },
      "execution_count": null,
      "outputs": []
    },
    {
      "cell_type": "code",
      "source": [
        "#numero di immagini Sfm per train e per val\n",
        "Sfm_num_train = int(len(Sfm_lista_image)*Sfm_train_ratio)\n",
        "Sfm_num_val = int(len(Sfm_lista_image)*Sfm_val_ratio)\n",
        "\n",
        "print(\"Immagini per training: \", Sfm_num_train)\n",
        "print(\"Immagini per validation: \", Sfm_num_val)"
      ],
      "metadata": {
        "id": "S5wdc9c084LW"
      },
      "execution_count": null,
      "outputs": []
    },
    {
      "cell_type": "code",
      "source": [
        "#numero di immagini features per train e per val\n",
        "features_num_train = int(len(features_lista_image)*features_train_ratio)\n",
        "features_num_val = int(len(features_lista_image)*features_val_ratio)\n",
        "\n",
        "print(\"Immagini per training: \", features_num_train)\n",
        "print(\"Immagini per validation: \", features_num_val)"
      ],
      "metadata": {
        "id": "atKNqQbe82Cj"
      },
      "execution_count": null,
      "outputs": []
    },
    {
      "cell_type": "code",
      "source": [
        "#inserisco Sfm image e label in train\n",
        "for i in range(Sfm_num_train):\n",
        "   file_image = random.choice(Sfm_lista_image)\n",
        "   file_image_name = file_image.split('.')[0]\n",
        "   file_label =  file_image_name+'.txt'\n",
        "\n",
        "   #sposto i file nella cartella train\n",
        "   source_label = Sfm_labels_path+'/'+file_label\n",
        "   destination_label = Sfm_train_label_path+'/'+file_label\n",
        "   shutil.copyfile(source_label,destination_label)\n",
        "\n",
        "   source_image = Sfm_images_path+'/'+file_image\n",
        "   destination_image = Sfm_train_image_path+'/'+file_image\n",
        "   shutil.copyfile(source_image,destination_image)\n",
        "\n",
        "   #rimuovo i file dalla lista\n",
        "   Sfm_lista_image.remove(file_image)\n",
        "   Sfm_lista_label.remove(file_label)\n",
        "    \n",
        "\n",
        "#inserisco Sfm image e label in val  \n",
        "for i in range(Sfm_num_val):\n",
        "    file_image =random.choice(Sfm_lista_image)\n",
        "    file_image_name = file_image.split('.')[0]\n",
        "    file_label = file_image_name+'.txt'\n",
        "\n",
        "    #sposto i file nella cartella val\n",
        "    source_label = Sfm_labels_path+'/'+file_label\n",
        "    destination_label = Sfm_val_label_path+'/'+file_label\n",
        "    shutil.copyfile(source_label,destination_label)\n",
        "\n",
        "    source_image = Sfm_images_path+'/'+file_image\n",
        "    destination_image = Sfm_val_image_path+'/'+file_image\n",
        "    shutil.copyfile(source_image,destination_image)\n",
        "\n",
        "    #rimuovo i file dalla lista\n",
        "    Sfm_lista_image.remove(file_image)\n",
        "    Sfm_lista_label.remove(file_label)"
      ],
      "metadata": {
        "id": "6mkQFVqZOWFR"
      },
      "execution_count": null,
      "outputs": []
    },
    {
      "cell_type": "code",
      "source": [
        "#inserisco features image e label in train\n",
        "for i in range(features_num_train):\n",
        "   file_image = random.choice(features_lista_image)\n",
        "   file_image_name = file_image.split('.')[0]\n",
        "   file_label =  file_image_name+'.txt'\n",
        "\n",
        "   #sposto i file nella cartella train\n",
        "   source_label = features_labels_path+'/'+file_label\n",
        "   destination_label = features_train_label_path+'/'+file_label\n",
        "   shutil.copyfile(source_label,destination_label)\n",
        "\n",
        "   source_image = features_images_path+'/'+file_image\n",
        "   destination_image = features_train_image_path+'/'+file_image\n",
        "   shutil.copyfile(source_image,destination_image)\n",
        "\n",
        "   #rimuovo i file dalla lista\n",
        "   features_lista_image.remove(file_image)\n",
        "   features_lista_label.remove(file_label)\n",
        "    \n",
        "\n",
        "#inserisco features image e label in val  \n",
        "for i in range(features_num_val):\n",
        "    file_image =random.choice(features_lista_image)\n",
        "    file_image_name = file_image.split('.')[0]\n",
        "    file_label = file_image_name+'.txt'\n",
        "\n",
        "    #sposto i file nella cartella val\n",
        "    source_label = features_labels_path+'/'+file_label\n",
        "    destination_label = features_val_label_path+'/'+file_label\n",
        "    shutil.copyfile(source_label,destination_label)\n",
        "\n",
        "    source_image = features_images_path+'/'+file_image\n",
        "    destination_image = features_val_image_path+'/'+file_image\n",
        "    shutil.copyfile(source_image,destination_image)\n",
        "\n",
        "    #rimuovo i file dalla lista\n",
        "    features_lista_image.remove(file_image)\n",
        "    features_lista_label.remove(file_label)"
      ],
      "metadata": {
        "id": "vVMOhO3V8ClP"
      },
      "execution_count": null,
      "outputs": []
    },
    {
      "cell_type": "markdown",
      "source": [
        "Cambiare i path all' interno del file target_detector_features.yaml in accordo con il proprio dataset"
      ],
      "metadata": {
        "id": "wNFfxY0QNrtz"
      }
    },
    {
      "cell_type": "code",
      "source": [
        "#inserisco target_detector_features.yalm nella directory 'data'\n",
        "source = 'Olive_Detection_Tracking/target_detector/target_detector_features.yaml'\n",
        "destination = 'data/target_detector_features.yaml'\n",
        "shutil.copy(source,destination)"
      ],
      "metadata": {
        "id": "COio3nxc9PKd"
      },
      "execution_count": null,
      "outputs": []
    },
    {
      "cell_type": "markdown",
      "source": [
        "Cambiare i path all' interno del file target_detector_Sfm.yaml in accordo con il proprio dataset"
      ],
      "metadata": {
        "id": "e_Yeibwa9bBQ"
      }
    },
    {
      "cell_type": "code",
      "source": [
        "#inserisco target_detector_Sfm.yal nella directory 'data'\n",
        "source = 'Olive_Detection_Tracking/target_detector/target_detector_Sfm.yaml'\n",
        "destination = 'data/target_detector_Sfm.yaml'\n",
        "shutil.copy(source,destination)"
      ],
      "metadata": {
        "id": "COBh5Ey7JCTH"
      },
      "execution_count": null,
      "outputs": []
    },
    {
      "cell_type": "markdown",
      "source": [
        "## **ADDESTRAMENTO TARGET DETECTOR**"
      ],
      "metadata": {
        "id": "txbD1BQmP6ra"
      }
    },
    {
      "cell_type": "markdown",
      "source": [
        "Usiamo Weights & Biases per mostrare i risultati.\n",
        "\n",
        "Eventualmente possiamo usare anche tensorboard lanciando il seguente codice dopo aver avviato il training.\n",
        "\n",
        "```\n",
        "# Start tensorboard\n",
        "# Launch after you have started training\n",
        "# logs save in the folder \"runs\"\n",
        "%load_ext tensorboard\n",
        "%tensorboard --logdir runs\n",
        "```\n",
        "\n"
      ],
      "metadata": {
        "id": "81GdZpOoGK49"
      }
    },
    {
      "cell_type": "code",
      "source": [
        "#Weights & Biases\n",
        "%pip install -q wandb\n",
        "import wandb\n",
        "wandb.login()"
      ],
      "metadata": {
        "id": "8eztMmQJQTRl"
      },
      "execution_count": null,
      "outputs": []
    },
    {
      "cell_type": "markdown",
      "source": [
        "Avviamo l'addestramento"
      ],
      "metadata": {
        "id": "Sfm8mdd5QB4K"
      }
    },
    {
      "cell_type": "code",
      "source": [
        "!python train.py --img 416 --batch 16 --epochs 30 --data target_detector_features.yaml --weights yolov5s.pt --cache "
      ],
      "metadata": {
        "id": "M77P6YZwQKZU"
      },
      "execution_count": null,
      "outputs": []
    },
    {
      "cell_type": "code",
      "source": [
        "!python train.py --img 416 --batch 16 --epochs 30 --data target_detector_Sfm.yaml --weights yolov5s.pt --cache "
      ],
      "metadata": {
        "id": "OhQwCINc-EpB"
      },
      "execution_count": null,
      "outputs": []
    },
    {
      "cell_type": "markdown",
      "source": [
        "Facciamo il download del weights migliore cosi da salvarlo in locale e poterlo riutilizzare per inferences e validation future\n",
        "\n",
        "Modificare i path in accordo con le proprie directory\n"
      ],
      "metadata": {
        "id": "ip3MJebSFk96"
      }
    },
    {
      "cell_type": "code",
      "source": [
        "from google.colab import files\n",
        "files.download('runs/train/exp/weights/best.pt')"
      ],
      "metadata": {
        "id": "CzKJEgltFu_t"
      },
      "execution_count": null,
      "outputs": []
    },
    {
      "cell_type": "code",
      "source": [
        "from google.colab import files\n",
        "files.download('runs/train/exp2/weights/best.pt')"
      ],
      "metadata": {
        "id": "u3uROUrwJRi-"
      },
      "execution_count": null,
      "outputs": []
    },
    {
      "cell_type": "markdown",
      "source": [
        "## **VALIDATION TARGET DETECTOR**\n",
        "\n",
        "Dopo aver fatto il training facciamo la validation sul dateset del test\n"
      ],
      "metadata": {
        "id": "Md6IPErGcPip"
      }
    },
    {
      "cell_type": "code",
      "source": [
        "!python val.py --img 416 --batch 16 --data target_detector_features.yaml --weights best_features.pt --task test --save-txt "
      ],
      "metadata": {
        "id": "vWJmxBS8lod5",
        "colab": {
          "base_uri": "https://localhost:8080/"
        },
        "outputId": "d8c6cd8e-815d-4fad-8dcd-417adae652eb"
      },
      "execution_count": 21,
      "outputs": [
        {
          "output_type": "stream",
          "name": "stdout",
          "text": [
            "\u001b[34m\u001b[1mval: \u001b[0mdata=/content/yolov5/data/target_detector_features.yaml, weights=['best_features.pt'], batch_size=16, imgsz=416, conf_thres=0.001, iou_thres=0.6, task=test, device=, workers=8, single_cls=False, augment=False, verbose=False, save_txt=True, save_hybrid=False, save_conf=False, save_json=False, project=runs/val, name=exp, exist_ok=False, half=False, dnn=False\n",
            "YOLOv5 🚀 v6.1-304-g51fb467 Python-3.7.13 torch-1.11.0+cu102 CUDA:0 (Tesla T4, 15110MiB)\n",
            "\n",
            "Fusing layers... \n",
            "Model summary: 213 layers, 7012822 parameters, 0 gradients, 15.8 GFLOPs\n",
            "\u001b[34m\u001b[1mtest: \u001b[0mScanning '/content/yolov5/../yolov5/Olive_Detection_Tracking/target_detector/test_dataset/labels.cache' images and labels... 100 found, 0 missing, 0 empty, 0 corrupt: 100% 100/100 [00:00<?, ?it/s]\n",
            "               Class     Images     Labels          P          R     mAP@.5 mAP@.5:.95: 100% 7/7 [00:06<00:00,  1.03it/s]\n",
            "                 all        100       3152     0.0426     0.0869     0.0343    0.00804\n",
            "Speed: 0.2ms pre-process, 4.1ms inference, 3.2ms NMS per image at shape (16, 3, 416, 416)\n",
            "Results saved to \u001b[1mruns/val/exp2\u001b[0m\n",
            "100 labels saved to runs/val/exp2/labels\n"
          ]
        }
      ]
    },
    {
      "cell_type": "code",
      "source": [
        "!python val.py --img 416 --batch 16 --data target_detector_Sfm.yaml --weights best_sfm.pt --task test --save-txt "
      ],
      "metadata": {
        "colab": {
          "base_uri": "https://localhost:8080/"
        },
        "id": "WPXJhdOS-TQH",
        "outputId": "fad509a3-579c-416a-daed-1b827cdf10dc"
      },
      "execution_count": 20,
      "outputs": [
        {
          "output_type": "stream",
          "name": "stdout",
          "text": [
            "\u001b[34m\u001b[1mval: \u001b[0mdata=/content/yolov5/data/target_detector_Sfm.yaml, weights=['best_sfm.pt'], batch_size=16, imgsz=416, conf_thres=0.001, iou_thres=0.6, task=test, device=, workers=8, single_cls=False, augment=False, verbose=False, save_txt=True, save_hybrid=False, save_conf=False, save_json=False, project=runs/val, name=exp, exist_ok=False, half=False, dnn=False\n",
            "YOLOv5 🚀 v6.1-304-g51fb467 Python-3.7.13 torch-1.11.0+cu102 CUDA:0 (Tesla T4, 15110MiB)\n",
            "\n",
            "Fusing layers... \n",
            "Model summary: 213 layers, 7012822 parameters, 0 gradients, 15.8 GFLOPs\n",
            "Downloading https://ultralytics.com/assets/Arial.ttf to /root/.config/Ultralytics/Arial.ttf...\n",
            "100% 755k/755k [00:00<00:00, 44.6MB/s]\n",
            "\u001b[34m\u001b[1mtest: \u001b[0mScanning '/content/yolov5/../yolov5/Olive_Detection_Tracking/target_detector/test_dataset/labels' images and labels...100 found, 0 missing, 0 empty, 0 corrupt: 100% 100/100 [00:00<00:00, 1136.76it/s]\n",
            "\u001b[34m\u001b[1mtest: \u001b[0mNew cache created: /content/yolov5/../yolov5/Olive_Detection_Tracking/target_detector/test_dataset/labels.cache\n",
            "               Class     Images     Labels          P          R     mAP@.5 mAP@.5:.95: 100% 7/7 [00:06<00:00,  1.11it/s]\n",
            "                 all        100       3152    0.00705    0.00444    0.00362   0.000862\n",
            "Speed: 0.8ms pre-process, 3.9ms inference, 4.5ms NMS per image at shape (16, 3, 416, 416)\n",
            "Results saved to \u001b[1mruns/val/exp\u001b[0m\n",
            "100 labels saved to runs/val/exp/labels\n"
          ]
        }
      ]
    },
    {
      "cell_type": "markdown",
      "source": [
        "Salvo i risultati\n",
        "\n",
        "Modificare i path in base alle proprie directory"
      ],
      "metadata": {
        "id": "Jt2yJGfxQd06"
      }
    },
    {
      "cell_type": "code",
      "source": [
        "!zip -r validation_features_results.zip runs/val/exp2/"
      ],
      "metadata": {
        "id": "RzXFZPTQPsgU"
      },
      "execution_count": null,
      "outputs": []
    },
    {
      "cell_type": "code",
      "source": [
        "from google.colab import files\n",
        "files.download(\"validation_features_results.zip\")"
      ],
      "metadata": {
        "id": "KK7cUJefPwUH"
      },
      "execution_count": null,
      "outputs": []
    },
    {
      "cell_type": "code",
      "source": [
        "!zip -r validation_sfm_results.zip runs/val/exp/"
      ],
      "metadata": {
        "id": "tcYpteoUPz0q"
      },
      "execution_count": null,
      "outputs": []
    },
    {
      "cell_type": "code",
      "source": [
        "from google.colab import files\n",
        "files.download(\"validation_sfm_results.zip\")"
      ],
      "metadata": {
        "id": "rzUsT2uHP24B"
      },
      "execution_count": null,
      "outputs": []
    },
    {
      "cell_type": "markdown",
      "source": [
        "## **INFERENZA TARGET DETECTOR**\n",
        "\n",
        "Infine faccio l'inferenza su un nuovo set di immagini creato estraendo i frame dal video2 che si trova al seguente path Olive_Detection_Tracking/dataset_video/videos/"
      ],
      "metadata": {
        "id": "zKSp6UdnchYU"
      }
    },
    {
      "cell_type": "markdown",
      "source": [
        "Per salvare sia le labels che le immagini facciamo il download di tutta la cartella in cui sono salvati i risultati runs/detect/exp\n",
        "\n",
        "Modificare i path in base alle proprie directory"
      ],
      "metadata": {
        "id": "J-2DYHV9GDg2"
      }
    },
    {
      "cell_type": "code",
      "source": [
        "!python detect.py --source Olive_Detection_Tracking/dataset_video/frame_video/frame_video2 --data data/target_detector_features.yaml --weights best_features.pt --save-txt --conf-thres 0.40"
      ],
      "metadata": {
        "id": "1E9CDyLydRw7"
      },
      "execution_count": null,
      "outputs": []
    },
    {
      "cell_type": "code",
      "source": [
        "!zip -r target_detection_features_results.zip runs/detect/exp/"
      ],
      "metadata": {
        "id": "zBX_fzz1GQKK"
      },
      "execution_count": null,
      "outputs": []
    },
    {
      "cell_type": "code",
      "source": [
        "from google.colab import files\n",
        "files.download(\"target_detection_features_results.zip\")"
      ],
      "metadata": {
        "id": "Asrxll9EGEkB"
      },
      "execution_count": null,
      "outputs": []
    },
    {
      "cell_type": "code",
      "source": [
        "!python detect.py --source Olive_Detection_Tracking/dataset_video/frame_video/frame_video2 --data data/target_detector_Sfm.yaml --weights best_sfm.pt --save-txt --conf-thres 0.40"
      ],
      "metadata": {
        "id": "s1FKqAP0-joV"
      },
      "execution_count": null,
      "outputs": []
    },
    {
      "cell_type": "code",
      "source": [
        "!zip -r target_detection_sfm_results_finale.zip runs/detect/exp2/"
      ],
      "metadata": {
        "id": "lLnT40VIG8Ua"
      },
      "execution_count": null,
      "outputs": []
    },
    {
      "cell_type": "code",
      "source": [
        "from google.colab import files\n",
        "files.download(\"target_detection_sfm_results.zip\")\n"
      ],
      "metadata": {
        "id": "iTkmEGDUG_K9"
      },
      "execution_count": null,
      "outputs": []
    }
  ]
}