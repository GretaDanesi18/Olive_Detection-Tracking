{
  "cells": [
    {
      "cell_type": "markdown",
      "metadata": {
        "colab_type": "text",
        "id": "view-in-github"
      },
      "source": [
        "<a href=\"https://colab.research.google.com/github/GretaDanesi18/Olive_Detection_Tracking/blob/main/target_detector/YOLOv5_TDet.ipynb\" target=\"_parent\"><img src=\"https://colab.research.google.com/assets/colab-badge.svg\" alt=\"Open In Colab\"/></a>"
      ]
    },
    {
      "cell_type": "markdown",
      "metadata": {
        "id": "GxPdSlsjKIHo"
      },
      "source": [
        "## **SETUP**"
      ]
    },
    {
      "cell_type": "markdown",
      "metadata": {
        "id": "MSsEQC1mAh7A"
      },
      "source": [
        "Per prima cosa cloniamo la repo contente YOLOv5 e installiamo i requisiti"
      ]
    },
    {
      "cell_type": "code",
      "execution_count": null,
      "metadata": {
        "id": "rJLPGLRQgDJQ"
      },
      "outputs": [],
      "source": [
        "!git clone https://github.com/ultralytics/yolov5\n",
        "%cd yolov5\n",
        "!pip install -r requirements.txt"
      ]
    },
    {
      "cell_type": "markdown",
      "metadata": {
        "id": "RvxnaUNGBCfU"
      },
      "source": [
        "Successivamente importiamo le librerie necessarie"
      ]
    },
    {
      "cell_type": "code",
      "execution_count": null,
      "metadata": {
        "id": "Ttf8iO2r7-KL"
      },
      "outputs": [],
      "source": [
        "import torch \n",
        "import os\n",
        "import random \n",
        "import shutil\n",
        "import glob\n",
        "from IPython.display import Image,display\n",
        "from PIL import Image, ImageDraw\n",
        "import cv2\n",
        "import pandas as pd\n",
        "import subprocess\n",
        "from numpy import source\n"
      ]
    },
    {
      "cell_type": "markdown",
      "metadata": {
        "id": "wGdE_ROSBIhE"
      },
      "source": [
        "Controlliamo l'utilizzo del device GPU oppure CPU"
      ]
    },
    {
      "cell_type": "code",
      "execution_count": null,
      "metadata": {
        "id": "jhG6CGpt0mQ5"
      },
      "outputs": [],
      "source": [
        "if torch.cuda.is_available():\n",
        "    device = torch.device('cuda')\n",
        "else:\n",
        "    device = torch.device('cpu')\n",
        "    \n",
        "print('Using PyTorch version:', torch.__version__, ' Device:', device)"
      ]
    },
    {
      "cell_type": "markdown",
      "metadata": {
        "id": "N2hQdxxgLCpx"
      },
      "source": [
        "##**CREAZIONE DATASET TARGET DETECTOR**"
      ]
    },
    {
      "cell_type": "markdown",
      "metadata": {
        "id": "uaKfH0WTMlKW"
      },
      "source": [
        "Caricare la cartella contenente le pseudo labels(\"Results__PseudoLabels\") generate tramite i software contenuti nella seguente repo:\n",
        "https://github.com/Lio320/GraphTracking.git\n",
        "\n",
        "Possiamo caricarle in diversi modi:\n",
        "\n",
        "\n",
        "* in locale \n",
        "```\n",
        "from google.colab import files\n",
        "uploaded = files.upload()\n",
        "```\n",
        "*  con google drive\n",
        "```\n",
        "from google.colab import drive\n",
        "drive.mount('/content/gdrive')\n",
        "```\n",
        "* con github\n",
        "```\n",
        "!git clone \"inserire url della repo in cui si trovano le pseudo labels\"\n",
        "```\n",
        "\n",
        "\n",
        "\n",
        "\n",
        "\n",
        "\n",
        "\n",
        "\n"
      ]
    },
    {
      "cell_type": "code",
      "execution_count": null,
      "metadata": {
        "id": "CHcB434BgmfI"
      },
      "outputs": [],
      "source": [
        "!git clone https://github.com/GretaDanesi18/Olive_Detection_Tracking.git"
      ]
    },
    {
      "cell_type": "markdown",
      "metadata": {
        "id": "TSTApL8AXSKn"
      },
      "source": [
        "Creiamo le cartellle per il dataset del target detector.\n",
        "\n",
        "La struttura del dataset del target detector è la stessa del source detector con l'aggiunta delle cartella per il test\n",
        "\n",
        "\n"
      ]
    },
    {
      "cell_type": "markdown",
      "metadata": {
        "id": "IfJJbvJbE8g_"
      },
      "source": [
        "```\n",
        "/path/to/dataset/...\n",
        "\n",
        "+--images\n",
        "|   +---train\n",
        "         +-----image_1.jpg\n",
        "         +-----image_2.jpg\n",
        "         +-----image_n.jpg\n",
        "|   +---val\n",
        "        +-----image_1.jpg\n",
        "        +-----image_2.jpg\n",
        "        +-----image_n.jpg\n",
        "|   +---test\n",
        "        +-----image_1.jpg\n",
        "        +-----image_2.jpg\n",
        "        +-----image_n.jpg\n",
        "+--labels\n",
        "|   +---train\n",
        "         +-----label_1.txt\n",
        "         +-----label_2.txt\n",
        "         +-----label_n.txt\n",
        "|   +---val\n",
        "        +-----label_1.txt\n",
        "        +-----label_2.txt\n",
        "        +-----label_n.txt\n",
        "|   +---test\n",
        "        +-----label_1.txt\n",
        "        +-----label_2.txt\n",
        "        +-----label_n.txt\n",
        "\n",
        "```\n"
      ]
    },
    {
      "cell_type": "code",
      "execution_count": null,
      "metadata": {
        "id": "NRclyZcbRJ7n"
      },
      "outputs": [],
      "source": [
        "try:\n",
        "  if not os.path.exists('/content/yolov5/Olive_Detection_Tracking/Pseudo_Labels/images/train'):\n",
        "    os.makedirs('/content/yolov5/Olive_Detection_Tracking/Pseudo_Labels/images/train')\n",
        "\n",
        "except OSError:\n",
        "    print('Errore nella creazione della cartella Pseudo_Labels/images/train')\n",
        "\n",
        "try:\n",
        "  if not os.path.exists('/content/yolov5/Olive_Detection_Tracking/Pseudo_Labels/images/val'):\n",
        "    os.makedirs('/content/yolov5/Olive_Detection_Tracking/Pseudo_Labels/images/val')\n",
        "\n",
        "except OSError:\n",
        "    print('Errore nella creazione della cartella Pseudo_Labels/images/val')\n",
        "\n",
        "\n",
        "try:\n",
        "  if not os.path.exists('/content/yolov5/Olive_Detection_Tracking/Pseudo_Labels/images/test'):\n",
        "    os.makedirs('/content/yolov5/Olive_Detection_Tracking/Pseudo_Labels/images/test')\n",
        "\n",
        "except OSError:\n",
        "    print('Errore nella creazione della cartella Pseudo_Labels/images/test')\n",
        "\n",
        "try:\n",
        "  if not os.path.exists('/content/yolov5/Olive_Detection_Tracking/Pseudo_Labels/labels/train'):\n",
        "    os.makedirs('/content/yolov5/Olive_Detection_Tracking/Pseudo_Labels/labels/train')\n",
        "\n",
        "except OSError:\n",
        "    print('Errore nella creazione della cartella Pseudo_Labels/labels/train')\n",
        "\n",
        "\n",
        "try:\n",
        "  if not os.path.exists('/content/yolov5/Olive_Detection_Tracking/Pseudo_Labels/labels/val'):\n",
        "    os.makedirs('/content/yolov5/Olive_Detection_Tracking/Pseudo_Labels/labels/val')\n",
        "\n",
        "except OSError:\n",
        "    print('Errore nella creazione della cartella Pseudo_Labels/labels/val')\n",
        "\n",
        "\n",
        "try:\n",
        "  if not os.path.exists('/content/yolov5/Olive_Detection_Tracking/Pseudo_Labels/labels/test'):\n",
        "    os.makedirs('/content/yolov5/Olive_Detection_Tracking/Pseudo_Labels/labels/test')\n",
        "\n",
        "except OSError:\n",
        "   print('Errore nella creazione della cartella Pseudo_Labels/labels/test')\n",
        "\n"
      ]
    },
    {
      "cell_type": "markdown",
      "metadata": {
        "id": "ZAth0FycOMG5"
      },
      "source": [
        "Faccio lo split del target dataset cosi da ottenere il dataset per il training e per la validation"
      ]
    },
    {
      "cell_type": "code",
      "execution_count": null,
      "metadata": {
        "id": "PTUs16vCTxef"
      },
      "outputs": [],
      "source": [
        "#array che contiene i file\n",
        "image = []\n",
        "label = [] \n",
        "\n",
        "#path\n",
        "all_data_path = '/content/yolov5/Olive_Detection_Tracking/target_detector/pseudo_labels_dataset'\n",
        "train_image_path = '/content/yolov5/Olive_Detection_Tracking/Pseudo_Labels/images/train'\n",
        "val_image_path = '/content/yolov5/Olive_Detection_Tracking/Pseudo_Labels/images/val'\n",
        "test_image_path = '/content/yolov5/Olive_Detection_Tracking/Pseudo_Labels/images/test'\n",
        "train_label_path ='/content/yolov5/Olive_Detection_Tracking/Pseudo_Labels/labels/train'\n",
        "val_label_path = '/content/yolov5/Olive_Detection_Tracking/Pseudo_Labels/labels/val'\n",
        "test_label_path = '/content/yolov5/Olive_Detection_Tracking/Pseudo_Labels/labels/test'\n",
        "\n",
        "#inserisco images nella cartella per il test\n",
        "source_image = '/content/yolov5/Olive_Detection_Tracking/target_detector/test_dataset/images'\n",
        "destination_image =test_image_path\n",
        "lista_image = os.listdir(source_image)\n",
        "for frame in lista_images:\n",
        "    name = frame.split('.')[0]\n",
        "    source = source_image+'/'+frame\n",
        "    destination = destination_image+'/'+frame\n",
        "    shutil.copyfile(source,destination)\n",
        "\n",
        "#inserisco labels nella cartella per il test\n",
        "source_label = '/content/yolov5/Olive_Detection_Tracking/target_detector/test_dataset/labels'\n",
        "destination_label =test_label_path\n",
        "lista_label = os.listdir(source_label)\n",
        "for label in lista_label:\n",
        "    name = label.split('.')[0]\n",
        "    source = source_label+'/'+label\n",
        "    destination = destination_label+'/'+label\n",
        "    shutil.copyfile(source,destination)\n",
        "\n",
        "\n",
        "#percentuale per train, val\n",
        "val_ratio = 0.2\n",
        "train_ratio = 0.6\n",
        "\n",
        "#inserisco file negli array corrispondenti\n",
        "for (dirname, dirs, files) in os.walk(all_data_path):\n",
        "    for filename in files:\n",
        "        if filename.endswith('.txt'):\n",
        "            label.append(filename)\n",
        "        else:\n",
        "            image.append(filename)\n",
        "\n",
        "#numero di immagini per train e per val\n",
        "num_train = int(len(image)*train_ratio)\n",
        "num_val = int(len(image)*val_ratio)\n",
        "num_test = int(len(lista_image))\n",
        "\n",
        "print(\"Immagini per training: \", num_train)\n",
        "print(\"Immagini per validation: \", num_val)\n",
        "print(\"Immagini per test: \", num_test)"
      ]
    },
    {
      "cell_type": "code",
      "execution_count": null,
      "metadata": {
        "id": "6mkQFVqZOWFR"
      },
      "outputs": [],
      "source": [
        "#inserisco image e label in train\n",
        "for i in range(num_train):\n",
        "   file_image = random.choice(image)\n",
        "   file_image_name = file_image.split('.')[0]\n",
        "   file_label =  file_image_name+'.txt'\n",
        "\n",
        "   #sposto i file nella cartella train\n",
        "   shutil.copy(os.path.join(all_data_path, file_image), os.path.join(train_image_path, file_image))\n",
        "   shutil.copy(os.path.join(all_data_path, file_label), os.path.join(train_label_path, file_label))\n",
        "\n",
        "   #rimuovo i file da arrays\n",
        "   image.remove(file_image)\n",
        "   label.remove(file_label)\n",
        "    \n",
        "\n",
        "#inserisco image e label in val  \n",
        "for i in range(num_val):\n",
        "    file_image =random.choice(image) # get name of random image from origin dir\n",
        "    file_image_name = file_image.split('.')[0]\n",
        "    file_label = file_image_name+'.txt'\n",
        "\n",
        "    #move both files into train dir\n",
        "    shutil.copy(os.path.join(all_data_path, file_image), os.path.join(val_image_path, file_image))\n",
        "    shutil.copy(os.path.join(all_data_path, file_label), os.path.join(val_label_path, file_label))\n",
        "    \n",
        "    #rimuovo i file da arrays\n",
        "    image.remove(file_image)\n",
        "    label.remove(file_label)"
      ]
    },
    {
      "cell_type": "markdown",
      "metadata": {
        "id": "wNFfxY0QNrtz"
      },
      "source": [
        "Cambiare i path all' interno del file target_dataset.yaml in accordo con il proprio dataset"
      ]
    },
    {
      "cell_type": "code",
      "execution_count": null,
      "metadata": {
        "id": "COBh5Ey7JCTH"
      },
      "outputs": [],
      "source": [
        "#inserisco target_dataset.yal nella directory 'data'\n",
        "source = 'Olive_Detection_Tracking/target_detector/target_dataset.yaml'\n",
        "destination = 'data/target_dataset.yaml'\n",
        "shutil.copy(source,destination)"
      ]
    },
    {
      "cell_type": "markdown",
      "metadata": {
        "id": "txbD1BQmP6ra"
      },
      "source": [
        "## **ADDESTRAMENTO TARGET DETECTOR**"
      ]
    },
    {
      "cell_type": "markdown",
      "metadata": {
        "id": "81GdZpOoGK49"
      },
      "source": [
        "Usiamo Weights & Biases per mostrare i risultati.\n",
        "\n",
        "Eventualmente possiamo usare anche tensorboard lanciando il seguente codice dopo aver avviato il training.\n",
        "\n",
        "```\n",
        "# Start tensorboard\n",
        "# Launch after you have started training\n",
        "# logs save in the folder \"runs\"\n",
        "%load_ext tensorboard\n",
        "%tensorboard --logdir runs\n",
        "```\n",
        "\n"
      ]
    },
    {
      "cell_type": "code",
      "execution_count": null,
      "metadata": {
        "id": "8eztMmQJQTRl"
      },
      "outputs": [],
      "source": [
        "#Weights & Biases\n",
        "%pip install -q wandb\n",
        "import wandb\n",
        "wandb.login()"
      ]
    },
    {
      "cell_type": "markdown",
      "metadata": {
        "id": "Sfm8mdd5QB4K"
      },
      "source": [
        "Avviamo l'addestramento"
      ]
    },
    {
      "cell_type": "code",
      "execution_count": null,
      "metadata": {
        "id": "M77P6YZwQKZU"
      },
      "outputs": [],
      "source": [
        "!python train.py --img 416 --batch 16 --epochs 30 --data target_dataset.yaml --weights yolov5s.pt --cache "
      ]
    },
    {
      "cell_type": "markdown",
      "metadata": {
        "id": "Md6IPErGcPip"
      },
      "source": [
        "## **VALIDATION TARGET DETECTOR**\n",
        "\n",
        "Dopo aver fatto il training facciamo la validation sul dateset del test\n"
      ]
    },
    {
      "cell_type": "code",
      "execution_count": null,
      "metadata": {
        "id": "vWJmxBS8lod5"
      },
      "outputs": [],
      "source": [
        "!python val.py --img 416 --batch 16 --data target_dataset.yaml --weights runs/train/exp3/weights/best.pt --task test --save-txt "
      ]
    },
    {
      "cell_type": "code",
      "execution_count": null,
      "metadata": {
        "id": "mQhbFK_0rkTQ"
      },
      "outputs": [],
      "source": [
        "\n",
        "import glob\n",
        "from IPython.display import Image, display\n",
        "\n",
        "for imageName in glob.glob('/content/yolov5/runs/val/exp5/*.jpg'): #assuming JPG\n",
        "    display(Image(filename=imageName,width=1280))\n",
        "    print(\"\\n\")\n"
      ]
    },
    {
      "cell_type": "code",
      "execution_count": null,
      "metadata": {
        "id": "IB_zITPStR0y"
      },
      "outputs": [],
      "source": [
        "for imageName in glob.glob('/content/yolov5/runs/val/exp6/*.png'): #assuming JPG\n",
        "    display(Image(filename=imageName,width=960))\n",
        "    print(\"\\n\")"
      ]
    },
    {
      "cell_type": "markdown",
      "metadata": {
        "id": "zKSp6UdnchYU"
      },
      "source": [
        "## **INFERENZA TARGET DETECTOR**\n",
        "\n",
        "Infine faccio l'inferenza su un nuovo set di immagini creato estraendo i frame dal video2 che si trova al seguente path Olive_Detection_Tracking_dataset_video/videos "
      ]
    },
    {
      "cell_type": "code",
      "execution_count": null,
      "metadata": {
        "id": "1E9CDyLydRw7"
      },
      "outputs": [],
      "source": [
        "!python detect.py --source Olive_Detection_Tracking/dataset_video/frame_video/frame_video2 --data data/target_dataset.yaml --weights runs/train/exp/weights/best.pt --save-txt --conf-thres 0.40"
      ]
    }
  ],
  "metadata": {
    "colab": {
      "authorship_tag": "ABX9TyOhQYlS+NroW0LKxsCsUxQt",
      "include_colab_link": true,
      "name": "YOLOv5_TDet.ipynb",
      "provenance": []
    },
    "kernelspec": {
      "display_name": "Python 3",
      "name": "python3"
    },
    "language_info": {
      "name": "python"
    }
  },
  "nbformat": 4,
  "nbformat_minor": 0
}
