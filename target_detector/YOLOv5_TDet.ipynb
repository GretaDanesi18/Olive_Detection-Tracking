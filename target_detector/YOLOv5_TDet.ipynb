{
  "nbformat": 4,
  "nbformat_minor": 0,
  "metadata": {
    "colab": {
      "name": "YOLOv5_TDet.ipynb",
      "provenance": [],
      "authorship_tag": "ABX9TyNDUWHs2olaOICkGkcol3sy",
      "include_colab_link": true
    },
    "kernelspec": {
      "name": "python3",
      "display_name": "Python 3"
    },
    "language_info": {
      "name": "python"
    }
  },
  "cells": [
    {
      "cell_type": "markdown",
      "metadata": {
        "id": "view-in-github",
        "colab_type": "text"
      },
      "source": [
        "<a href=\"https://colab.research.google.com/github/GretaDanesi18/Olive_Detection_Tracking/blob/main/target_detector/YOLOv5_TDet.ipynb\" target=\"_parent\"><img src=\"https://colab.research.google.com/assets/colab-badge.svg\" alt=\"Open In Colab\"/></a>"
      ]
    },
    {
      "cell_type": "markdown",
      "source": [
        "## **SETUP**"
      ],
      "metadata": {
        "id": "GxPdSlsjKIHo"
      }
    },
    {
      "cell_type": "markdown",
      "source": [
        "Per prima cosa cloniamo la repo contente YOLOv5 e installiamo i requisiti"
      ],
      "metadata": {
        "id": "MSsEQC1mAh7A"
      }
    },
    {
      "cell_type": "code",
      "execution_count": null,
      "metadata": {
        "id": "rJLPGLRQgDJQ"
      },
      "outputs": [],
      "source": [
        "!git clone https://github.com/ultralytics/yolov5\n",
        "%cd yolov5\n",
        "!pip install -r requirements.txt"
      ]
    },
    {
      "cell_type": "markdown",
      "source": [
        "Successivamente importiamo le librerie necessarie"
      ],
      "metadata": {
        "id": "RvxnaUNGBCfU"
      }
    },
    {
      "cell_type": "code",
      "execution_count": null,
      "metadata": {
        "id": "Ttf8iO2r7-KL"
      },
      "outputs": [],
      "source": [
        "import torch \n",
        "import os\n",
        "import random \n",
        "import shutil\n",
        "import glob\n",
        "from IPython.display import Image,display\n",
        "from PIL import Image, ImageDraw\n",
        "import cv2\n",
        "import pandas as pd\n",
        "import subprocess\n",
        "from numpy import source\n"
      ]
    },
    {
      "cell_type": "markdown",
      "source": [
        "Controlliamo l'utilizzo del device GPU oppure CPU"
      ],
      "metadata": {
        "id": "wGdE_ROSBIhE"
      }
    },
    {
      "cell_type": "code",
      "execution_count": null,
      "metadata": {
        "id": "jhG6CGpt0mQ5"
      },
      "outputs": [],
      "source": [
        "if torch.cuda.is_available():\n",
        "    device = torch.device('cuda')\n",
        "else:\n",
        "    device = torch.device('cpu')\n",
        "    \n",
        "print('Using PyTorch version:', torch.__version__, ' Device:', device)"
      ]
    },
    {
      "cell_type": "markdown",
      "source": [
        "##**CREAZIONE DATASET TARGET DETECTOR**"
      ],
      "metadata": {
        "id": "N2hQdxxgLCpx"
      }
    },
    {
      "cell_type": "markdown",
      "source": [
        "Caricare la cartella contenente le pseudo labels(\"Results__PseudoLabels\") generate tramite i software contenuti nella seguente repo https://github.com/Lio320/GraphTracking.git "
      ],
      "metadata": {
        "id": "uaKfH0WTMlKW"
      }
    },
    {
      "cell_type": "code",
      "source": [
        "!git pull https://github.com/GretaDanesi18/Olive_Detection_Tracking.git"
      ],
      "metadata": {
        "id": "CHcB434BgmfI"
      },
      "execution_count": null,
      "outputs": []
    },
    {
      "cell_type": "markdown",
      "source": [
        "Creiamo le cartellle per il dataset del target detector.\n",
        "\n",
        "La struttura del dataset del target detector è la stessa del source detector con l'aggiunta delle cartella per il test\n"
      ],
      "metadata": {
        "id": "TSTApL8AXSKn"
      }
    },
    {
      "cell_type": "code",
      "source": [
        "try:\n",
        "  if not os.path.exists('/content/yolov5/Olive_Detection_Tracking/Pseudo_Labels/images/val'):\n",
        "    os.makedirs('/content/yolov5/Olive_Detection_Tracking/Pseudo_Labels/images/val')\n",
        "\n",
        "except OSError:\n",
        "    print('Errore nella creazione della cartella images/val')\n",
        "\n",
        "try:\n",
        "  if not os.path.exists('/content/yolov5/Olive_Detection_Tracking/Pseudo_Labels/images/train'):\n",
        "    os.makedirs('/content/yolov5/Olive_Detection_Tracking/Pseudo_Labels/images/train')\n",
        "\n",
        "except OSError:\n",
        "    print('Errore nella creazione della cartella images/train')\n",
        "\n",
        "try:\n",
        "  if not os.path.exists('/content/yolov5/Olive_Detection_Tracking/Pseudo_Labels/images/test'):\n",
        "    os.makedirs('/content/yolov5/Olive_Detection_Tracking/Pseudo_Labels/images/test')\n",
        "\n",
        "except OSError:\n",
        "    print('Errore nella creazione della cartella images/test')\n",
        "\n",
        "try:\n",
        "  if not os.path.exists('/content/yolov5/Olive_Detection_Tracking/Pseudo_Labels/labels/val'):\n",
        "    os.makedirs('/content/yolov5/Olive_Detection_Tracking/Pseudo_Labels/labels/val')\n",
        "\n",
        "except OSError:\n",
        "    print('Errore nella creazione della cartella labels/val')\n",
        "\n",
        "try:\n",
        "  if not os.path.exists('/content/yolov5/Olive_Detection_Tracking/Pseudo_Labels/labels/train'):\n",
        "    os.makedirs('/content/yolov5/Olive_Detection_Tracking/Pseudo_Labels/labels/train')\n",
        "\n",
        "except OSError:\n",
        "    print('Errore nella creazione della cartella labels/train')\n",
        "\n",
        "#try:\n",
        "#  if not os.path.exists('/content/yolov5/Olive_Detection_Tracking/Pseudo_Labels/labels/test'):\n",
        "#    os.makedirs('/content/yolov5/Olive_Detection_Tracking/Pseudo_Labels/labels/test')\n",
        "#\n",
        "#except OSError:\n",
        "#   print('Errore nella creazione della cartella labels/test')\n",
        "\n"
      ],
      "metadata": {
        "id": "NRclyZcbRJ7n"
      },
      "execution_count": null,
      "outputs": []
    },
    {
      "cell_type": "markdown",
      "source": [
        "Faccio lo split del target dataset cosi da ottenere il dataset per il training e per la validation"
      ],
      "metadata": {
        "id": "ZAth0FycOMG5"
      }
    },
    {
      "cell_type": "code",
      "source": [
        "#array che contiene i file\n",
        "image = []\n",
        "label = [] \n",
        "\n",
        "#path\n",
        "all_data_path = '/content/yolov5/Olive_Detection_Tracking/target_detector/pseudo_labels_dataset'\n",
        "train_image_path = '/content/yolov5/Olive_Detection_Tracking/Pseudo_Labels/images/train'\n",
        "val_image_path = '/content/yolov5/Olive_Detection_Tracking/Pseudo_Labels/images/val'\n",
        "test_image_path = '/content/yolov5/Olive_Detection_Tracking/Pseudo_Labels/images/test'\n",
        "train_label_path ='/content/yolov5/Olive_Detection_Tracking/Pseudo_Labels/labels/train'\n",
        "val_label_path = '/content/yolov5/Olive_Detection_Tracking/Pseudo_Labels/labels/val'\n",
        "test_label_path = '/content/yolov5/Olive_Detection_Tracking/Pseudo_Labels/labels/test'\n",
        "\n",
        "#inserisco frame_video2 nella cartella per il test\n",
        "source_frame = '/content/yolov5/Olive_Detection_Tracking/dataset_video/frame_video/frame_video2'\n",
        "destination_frame =test_image_path\n",
        "list_frame = os.listdir(source_frame)\n",
        "for frame in list_frame:\n",
        "    name = frames.split('.')[0]\n",
        "    source = source_frame+'/'+frame\n",
        "    destination = destination_frame+'/'+frame\n",
        "    shutil.copyfile(source,destination)\n",
        "\n",
        "\n",
        "#percentuale per train, val\n",
        "val_ratio = 0.2\n",
        "train_ratio = 0.8\n",
        "\n",
        "#inserisco file negli array corrispondenti\n",
        "for (dirname, dirs, files) in os.walk(all_data_path):\n",
        "    for filename in files:\n",
        "        if filename.endswith('.txt'):\n",
        "            label.append(filename)\n",
        "        else:\n",
        "            image.append(filename)\n",
        "\n",
        "#numero di immagini per train e per val\n",
        "num_train = int(len(image)*train_ratio)\n",
        "num_val = int(len(image)*val_ratio)\n",
        "num_test = int(len(list_frame)\n",
        "\n",
        "print(\"Immagini per training: \", num_train)\n",
        "print(\"Immagini per validation: \", num_val)\n",
        "print(\"Immagini per test: \", num_test)"
      ],
      "metadata": {
        "id": "PTUs16vCTxef"
      },
      "execution_count": null,
      "outputs": []
    },
    {
      "cell_type": "code",
      "source": [
        "#inserisco image e label in train\n",
        "for i in range(num_train):\n",
        "   file_image = random.choice(image)\n",
        "   file_image_name = file_image.split('.')[0]\n",
        "   file_label =  file_image_name+'.txt'\n",
        "\n",
        "   #sposto i file nella cartella train\n",
        "   shutil.copy(os.path.join(all_data_path, file_image), os.path.join(train_image_path, file_image))\n",
        "   shutil.copy(os.path.join(all_data_path, file_label), os.path.join(train_label_path, file_label))\n",
        "\n",
        "   #rimuovo i file da arrays\n",
        "   image.remove(file_image)\n",
        "   label.remove(file_label)\n",
        "    \n",
        "\n",
        "#inserisco image e label in val  \n",
        "for i in range(num_val):\n",
        "    file_image =random.choice(image) # get name of random image from origin dir\n",
        "    file_image_name = file_image.split('.')[0]\n",
        "    file_label = file_image_name+'.txt'\n",
        "\n",
        "    #move both files into train dir\n",
        "    shutil.copy(os.path.join(all_data_path, file_image), os.path.join(val_image_path, file_image))\n",
        "    shutil.copy(os.path.join(all_data_path, file_label), os.path.join(val_label_path, file_label))\n",
        "    \n",
        "    #rimuovo i file da arrays\n",
        "    image.remove(file_image)\n",
        "    label.remove(file_label)"
      ],
      "metadata": {
        "id": "6mkQFVqZOWFR"
      },
      "execution_count": null,
      "outputs": []
    },
    {
      "cell_type": "markdown",
      "source": [
        "Cambiare i path all' interno del file target_dataset.yaml in accordo con il proprio dataset"
      ],
      "metadata": {
        "id": "wNFfxY0QNrtz"
      }
    },
    {
      "cell_type": "code",
      "source": [
        "#inserisco target_dataset.yal nella directory 'data'\n",
        "source = 'Olive_Detection_Tracking/target_detector/target_dataset.yaml'\n",
        "destination = 'data/target_dataset.yaml'\n",
        "shutil.copy(source,destination)"
      ],
      "metadata": {
        "id": "COBh5Ey7JCTH"
      },
      "execution_count": null,
      "outputs": []
    },
    {
      "cell_type": "markdown",
      "source": [
        "## **ADDESTRAMENTO TARGET DETECTOR**"
      ],
      "metadata": {
        "id": "txbD1BQmP6ra"
      }
    },
    {
      "cell_type": "code",
      "source": [
        "#Weights & Biases\n",
        "%pip install -q wandb\n",
        "import wandb\n",
        "wandb.login()"
      ],
      "metadata": {
        "id": "8eztMmQJQTRl"
      },
      "execution_count": null,
      "outputs": []
    },
    {
      "cell_type": "markdown",
      "source": [
        "Avviamo l'addestramento"
      ],
      "metadata": {
        "id": "Sfm8mdd5QB4K"
      }
    },
    {
      "cell_type": "code",
      "source": [
        "!python train.py --img 416 --batch 16 --epochs 30 --data target_dataset.yaml --weights yolov5s.pt --cache "
      ],
      "metadata": {
        "id": "M77P6YZwQKZU"
      },
      "execution_count": null,
      "outputs": []
    },
    {
      "cell_type": "markdown",
      "source": [
        "## **VALIDATION TARGET DETECTOR**\n",
        "\n",
        "Dopo aver fatto il training faccio la validation sul target detector\n"
      ],
      "metadata": {
        "id": "Md6IPErGcPip"
      }
    },
    {
      "cell_type": "code",
      "source": [
        "!python val.py --img 416 --batch 16 --data target_dataset.yaml --weights runs/train/exp3/weights/best.pt --task val --save-txt "
      ],
      "metadata": {
        "id": "vWJmxBS8lod5"
      },
      "execution_count": null,
      "outputs": []
    },
    {
      "cell_type": "code",
      "source": [
        "\n",
        "import glob\n",
        "from IPython.display import Image, display\n",
        "\n",
        "for imageName in glob.glob('/content/yolov5/runs/val/exp5/*.jpg'): #assuming JPG\n",
        "    display(Image(filename=imageName,width=1280))\n",
        "    print(\"\\n\")\n"
      ],
      "metadata": {
        "id": "mQhbFK_0rkTQ"
      },
      "execution_count": null,
      "outputs": []
    },
    {
      "cell_type": "code",
      "source": [
        "for imageName in glob.glob('/content/yolov5/runs/val/exp6/*.png'): #assuming JPG\n",
        "    display(Image(filename=imageName,width=960))\n",
        "    print(\"\\n\")"
      ],
      "metadata": {
        "id": "IB_zITPStR0y"
      },
      "execution_count": null,
      "outputs": []
    },
    {
      "cell_type": "markdown",
      "source": [
        "## **INFERENZA TARGET DETECTOR**\n",
        "\n",
        "Infine faccio l'inferenza su un nuovo set di immagini creato estraendo i frame dal video2 che si trova al seguente path Olive_Detection_Tracking_dataset_video/videos "
      ],
      "metadata": {
        "id": "zKSp6UdnchYU"
      }
    },
    {
      "cell_type": "code",
      "source": [
        "!python detect.py --source Olive_Detection_Tracking/dataset_video/frame_video/frame_video2 --data data/target_dataset.yaml --weights runs/train/exp/weights/best.pt --save-txt --conf-thres 0.40"
      ],
      "metadata": {
        "id": "1E9CDyLydRw7"
      },
      "execution_count": null,
      "outputs": []
    }
  ]
}