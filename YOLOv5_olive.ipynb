{
  "cells": [
    {
      "cell_type": "markdown",
      "metadata": {
        "id": "view-in-github",
        "colab_type": "text"
      },
      "source": [
        "<a href=\"https://colab.research.google.com/github/GretaDanesi18/Olive_Detection_Tracking/blob/main/YOLOv5_olive.ipynb\" target=\"_parent\"><img src=\"https://colab.research.google.com/assets/colab-badge.svg\" alt=\"Open In Colab\"/></a>"
      ]
    },
    {
      "cell_type": "code",
      "execution_count": null,
      "metadata": {
        "id": "gEFScJCAAcAA"
      },
      "outputs": [],
      "source": [
        "#clono la repo e installa requisiti"
      ]
    },
    {
      "cell_type": "code",
      "execution_count": null,
      "metadata": {
        "id": "rJLPGLRQgDJQ"
      },
      "outputs": [],
      "source": [
        "!git clone https://github.com/ultralytics/yolov5\n",
        "%cd yolov5\n",
        "! pip install -r requirements.txt"
      ]
    },
    {
      "cell_type": "code",
      "execution_count": null,
      "metadata": {
        "id": "laQzo6I5AjYw"
      },
      "outputs": [],
      "source": [
        "#librerie"
      ]
    },
    {
      "cell_type": "code",
      "execution_count": 2,
      "metadata": {
        "id": "Ttf8iO2r7-KL"
      },
      "outputs": [],
      "source": [
        "import torch \n",
        "import os\n",
        "import random \n",
        "import shutil\n",
        "from IPython.display import Image\n",
        "from PIL import Image, ImageDraw\n",
        "import cv2\n",
        "import pandas as pd\n",
        "import subprocess\n",
        "from numpy import source\n"
      ]
    },
    {
      "cell_type": "code",
      "execution_count": null,
      "metadata": {
        "id": "kyWuRB7zAmu9"
      },
      "outputs": [],
      "source": [
        "#controllo utilizzo del device GPU oppure CPU"
      ]
    },
    {
      "cell_type": "code",
      "execution_count": 3,
      "metadata": {
        "id": "jhG6CGpt0mQ5",
        "colab": {
          "base_uri": "https://localhost:8080/"
        },
        "outputId": "c5ca12c3-84db-4ff0-be4f-a54da1914697"
      },
      "outputs": [
        {
          "output_type": "stream",
          "name": "stdout",
          "text": [
            "Using PyTorch version: 1.11.0+cu113  Device: cuda\n"
          ]
        }
      ],
      "source": [
        "if torch.cuda.is_available():\n",
        "    device = torch.device('cuda')\n",
        "else:\n",
        "    device = torch.device('cpu')\n",
        "    \n",
        "print('Using PyTorch version:', torch.__version__, ' Device:', device)"
      ]
    },
    {
      "cell_type": "code",
      "execution_count": null,
      "metadata": {
        "id": "Tq5GmsycAuQo"
      },
      "outputs": [],
      "source": [
        "#clono repo con dataset e file yaml"
      ]
    },
    {
      "cell_type": "code",
      "execution_count": 4,
      "metadata": {
        "id": "jYkL4OdZ3SE4",
        "colab": {
          "base_uri": "https://localhost:8080/"
        },
        "outputId": "21be2fbf-b134-46c1-e704-6874967ed41b"
      },
      "outputs": [
        {
          "output_type": "stream",
          "name": "stdout",
          "text": [
            "Cloning into 'Olive_Detection_Tracking'...\n",
            "remote: Enumerating objects: 631, done.\u001b[K\n",
            "remote: Counting objects: 100% (139/139), done.\u001b[K\n",
            "remote: Compressing objects: 100% (127/127), done.\u001b[K\n",
            "remote: Total 631 (delta 13), reused 136 (delta 12), pack-reused 492\u001b[K\n",
            "Receiving objects: 100% (631/631), 302.68 MiB | 16.61 MiB/s, done.\n",
            "Resolving deltas: 100% (19/19), done.\n"
          ]
        }
      ],
      "source": [
        "!git clone https://github.com/GretaDanesi18/Olive_Detection_Tracking.git"
      ]
    },
    {
      "cell_type": "code",
      "execution_count": null,
      "metadata": {
        "id": "vuYCHlDEA0iJ"
      },
      "outputs": [],
      "source": [
        "#creo le directory per fare split del dataset"
      ]
    },
    {
      "cell_type": "code",
      "execution_count": 5,
      "metadata": {
        "id": "YIUvadpF85ei"
      },
      "outputs": [],
      "source": [
        "try:\n",
        "  if not os.path.exists('/content/yolov5/Olive_Detection_Tracking/images/val'):\n",
        "    os.makedirs('/content/yolov5/Olive_Detection_Tracking/images/val')\n",
        "\n",
        "except OSError:\n",
        "    print('Errore nella creazione della cartella images/val')\n",
        "\n",
        "try:\n",
        "  if not os.path.exists('/content/yolov5/Olive_Detection_Tracking/images/train'):\n",
        "    os.makedirs('/content/yolov5/Olive_Detection_Tracking/images/train')\n",
        "\n",
        "except OSError:\n",
        "    print('Errore nella creazione della cartella images/train')\n",
        "\n",
        "try:\n",
        "  if not os.path.exists('/content/yolov5/Olive_Detection_Tracking/labels/val'):\n",
        "    os.makedirs('/content/yolov5/Olive_Detection_Tracking/labels/val')\n",
        "\n",
        "except OSError:\n",
        "    print('Errore nella creazione della cartella labels/val')\n",
        "\n",
        "try:\n",
        "  if not os.path.exists('/content/yolov5/Olive_Detection_Tracking/labels/train'):\n",
        "    os.makedirs('/content/yolov5/Olive_Detection_Tracking/labels/train')\n",
        "\n",
        "except OSError:\n",
        "    print('Errore nella creazione della cartella labels/train')\n"
      ]
    },
    {
      "cell_type": "code",
      "execution_count": null,
      "metadata": {
        "id": "tZ0Qb6V9A47G"
      },
      "outputs": [],
      "source": [
        "#array di appoggio per i dati\n",
        "#percentuali per lo split"
      ]
    },
    {
      "cell_type": "code",
      "execution_count": 6,
      "metadata": {
        "id": "o2f9vJvmC6kl",
        "colab": {
          "base_uri": "https://localhost:8080/"
        },
        "outputId": "6642bf3d-3a8b-430d-b9ce-e68e9ab5502a"
      },
      "outputs": [
        {
          "output_type": "stream",
          "name": "stdout",
          "text": [
            "Immagini per il training:  179\n",
            "Immagini per validation:  44\n",
            "DSC00302_04_02.jpg\n",
            "DSC00305_08_09.txt\n"
          ]
        }
      ],
      "source": [
        "#array che contiene i file\n",
        "image = []\n",
        "label = [] \n",
        "\n",
        "#path\n",
        "all_data_path = '/content/yolov5/Olive_Detection_Tracking/dataset'\n",
        "train_image_path = '/content/yolov5/Olive_Detection_Tracking/images/train'\n",
        "val_image_path = '/content/yolov5/Olive_Detection_Tracking/images/val'\n",
        "train_label_path ='/content/yolov5/Olive_Detection_Tracking/labels/train'\n",
        "val_label_path = '/content/yolov5/Olive_Detection_Tracking/labels/val'\n",
        "\n",
        "\n",
        "#percentuale per train, val\n",
        "val_ratio = 0.2\n",
        "train_ratio = 0.8\n",
        "\n",
        "#inserisco file negli array corrispondenti\n",
        "for (dirname, dirs, files) in os.walk(all_data_path):\n",
        "    for filename in files:\n",
        "        if filename.endswith('.txt'):\n",
        "            label.append(filename)\n",
        "        else:\n",
        "            image.append(filename)\n",
        "\n",
        "#numero di immagini per train e per val\n",
        "num_train = int(len(image)*train_ratio)\n",
        "num_val = int(len(image)*val_ratio)\n",
        "\n",
        "print(\"Immagini per il training: \", num_train)\n",
        "print(\"Immagini per validation: \", num_val)\n",
        "print(image[3])\n",
        "print(label[3])\n"
      ]
    },
    {
      "cell_type": "code",
      "execution_count": null,
      "metadata": {
        "id": "ieAs1ennA-Ug"
      },
      "outputs": [],
      "source": [
        "#inserisco dati nelle directory per yolov5"
      ]
    },
    {
      "cell_type": "code",
      "execution_count": 7,
      "metadata": {
        "id": "vqS9BJb6zBxj"
      },
      "outputs": [],
      "source": [
        "#inserisco image e label in train\n",
        "for i in range(num_train):\n",
        "   file_image = random.choice(image)\n",
        "   file_image_name = file_image.split('.')[0]\n",
        "   file_label =  file_image_name+'.txt'\n",
        "\n",
        "   #sposto i file nella cartella train\n",
        "   shutil.copy(os.path.join(all_data_path, file_image), os.path.join(train_image_path, file_image))\n",
        "   shutil.copy(os.path.join(all_data_path, file_label), os.path.join(train_label_path, file_label))\n",
        "\n",
        "   #rimuovo i file da arrays\n",
        "   image.remove(file_image)\n",
        "   label.remove(file_label)\n",
        "    \n",
        "\n",
        "#inserisco image e label in val  \n",
        "for i in range(num_val):\n",
        "    file_image =random.choice(image) # get name of random image from origin dir\n",
        "    file_image_name = file_image.split('.')[0]\n",
        "    file_label = file_image_name+'.txt'\n",
        "\n",
        "    #move both files into train dir\n",
        "    shutil.copy(os.path.join(all_data_path, file_image), os.path.join(val_image_path, file_image))\n",
        "    shutil.copy(os.path.join(all_data_path, file_label), os.path.join(val_label_path, file_label))\n",
        "    \n",
        "    #rimuovo i file da arrays\n",
        "    image.remove(file_image)\n",
        "    label.remove(file_label)\n"
      ]
    },
    {
      "cell_type": "code",
      "execution_count": null,
      "metadata": {
        "id": "lahFcG38BNj3"
      },
      "outputs": [],
      "source": [
        "#inserisco file yaml in directory data"
      ]
    },
    {
      "cell_type": "code",
      "execution_count": 8,
      "metadata": {
        "colab": {
          "base_uri": "https://localhost:8080/",
          "height": 35
        },
        "id": "gN5JAwB-5XwO",
        "outputId": "79ee1f5e-2f74-4481-92a6-973b9686e6c2"
      },
      "outputs": [
        {
          "output_type": "execute_result",
          "data": {
            "text/plain": [
              "'data/dataset.yaml'"
            ],
            "application/vnd.google.colaboratory.intrinsic+json": {
              "type": "string"
            }
          },
          "metadata": {},
          "execution_count": 8
        }
      ],
      "source": [
        "source = 'Olive_Detection_Tracking/dataset.yaml'\n",
        "destination = 'data/dataset.yaml'\n",
        "shutil.copy(source,destination)"
      ]
    },
    {
      "cell_type": "code",
      "execution_count": 9,
      "metadata": {
        "id": "rQuyTZA78HiH",
        "colab": {
          "base_uri": "https://localhost:8080/",
          "height": 208
        },
        "outputId": "8bce3f42-2097-4eef-ee97-681e47bd3481"
      },
      "outputs": [
        {
          "output_type": "stream",
          "name": "stdout",
          "text": [
            "\u001b[K     |████████████████████████████████| 1.8 MB 17.9 MB/s \n",
            "\u001b[K     |████████████████████████████████| 145 kB 68.1 MB/s \n",
            "\u001b[K     |████████████████████████████████| 181 kB 72.7 MB/s \n",
            "\u001b[K     |████████████████████████████████| 63 kB 1.4 MB/s \n",
            "\u001b[?25h  Building wheel for pathtools (setup.py) ... \u001b[?25l\u001b[?25hdone\n"
          ]
        },
        {
          "output_type": "display_data",
          "data": {
            "text/plain": [
              "<IPython.core.display.Javascript object>"
            ],
            "application/javascript": [
              "\n",
              "        window._wandbApiKey = new Promise((resolve, reject) => {\n",
              "            function loadScript(url) {\n",
              "            return new Promise(function(resolve, reject) {\n",
              "                let newScript = document.createElement(\"script\");\n",
              "                newScript.onerror = reject;\n",
              "                newScript.onload = resolve;\n",
              "                document.body.appendChild(newScript);\n",
              "                newScript.src = url;\n",
              "            });\n",
              "            }\n",
              "            loadScript(\"https://cdn.jsdelivr.net/npm/postmate/build/postmate.min.js\").then(() => {\n",
              "            const iframe = document.createElement('iframe')\n",
              "            iframe.style.cssText = \"width:0;height:0;border:none\"\n",
              "            document.body.appendChild(iframe)\n",
              "            const handshake = new Postmate({\n",
              "                container: iframe,\n",
              "                url: 'https://wandb.ai/authorize'\n",
              "            });\n",
              "            const timeout = setTimeout(() => reject(\"Couldn't auto authenticate\"), 5000)\n",
              "            handshake.then(function(child) {\n",
              "                child.on('authorize', data => {\n",
              "                    clearTimeout(timeout)\n",
              "                    resolve(data)\n",
              "                });\n",
              "            });\n",
              "            })\n",
              "        });\n",
              "    "
            ]
          },
          "metadata": {}
        },
        {
          "output_type": "stream",
          "name": "stderr",
          "text": [
            "\u001b[34m\u001b[1mwandb\u001b[0m: Logging into wandb.ai. (Learn how to deploy a W&B server locally: https://wandb.me/wandb-server)\n",
            "\u001b[34m\u001b[1mwandb\u001b[0m: You can find your API key in your browser here: https://wandb.ai/authorize\n",
            "wandb: Paste an API key from your profile and hit enter, or press ctrl+c to quit: "
          ]
        },
        {
          "name": "stdout",
          "output_type": "stream",
          "text": [
            "··········\n"
          ]
        },
        {
          "output_type": "stream",
          "name": "stderr",
          "text": [
            "\u001b[34m\u001b[1mwandb\u001b[0m: Appending key for api.wandb.ai to your netrc file: /root/.netrc\n"
          ]
        },
        {
          "output_type": "execute_result",
          "data": {
            "text/plain": [
              "True"
            ]
          },
          "metadata": {},
          "execution_count": 9
        }
      ],
      "source": [
        "#Weights & Biases\n",
        "%pip install -q wandb\n",
        "import wandb\n",
        "wandb.login()"
      ]
    },
    {
      "cell_type": "code",
      "execution_count": null,
      "metadata": {
        "id": "hjLF_2kmBTeN"
      },
      "outputs": [],
      "source": [
        "#addestramento"
      ]
    },
    {
      "cell_type": "code",
      "execution_count": 45,
      "metadata": {
        "colab": {
          "base_uri": "https://localhost:8080/"
        },
        "id": "r93_SW6kNYyz",
        "outputId": "bfb2f5ba-1b19-4e04-83d8-74983dac6352"
      },
      "outputs": [
        {
          "output_type": "stream",
          "name": "stdout",
          "text": [
            "\u001b[34m\u001b[1mwandb\u001b[0m: Currently logged in as: \u001b[33mdanesig\u001b[0m. Use \u001b[1m`wandb login --relogin`\u001b[0m to force relogin\n",
            "\u001b[34m\u001b[1mtrain: \u001b[0mweights=yolov5s.pt, cfg=, data=dataset.yaml, hyp=data/hyps/hyp.scratch-low.yaml, epochs=120, batch_size=16, imgsz=416, rect=False, resume=False, nosave=False, noval=False, noautoanchor=False, noplots=False, evolve=None, bucket=, cache=ram, image_weights=False, device=, multi_scale=False, single_cls=False, optimizer=SGD, sync_bn=False, workers=8, project=runs/train, name=exp, exist_ok=False, quad=False, cos_lr=False, label_smoothing=0.0, patience=100, freeze=[0], save_period=-1, seed=0, local_rank=-1, entity=None, upload_dataset=False, bbox_interval=-1, artifact_alias=latest\n",
            "\u001b[34m\u001b[1mgithub: \u001b[0mup to date with https://github.com/ultralytics/yolov5 ✅\n",
            "YOLOv5 🚀 v6.1-289-g526e650 Python-3.7.13 torch-1.11.0+cu113 CUDA:0 (Tesla T4, 15110MiB)\n",
            "\n",
            "\u001b[34m\u001b[1mhyperparameters: \u001b[0mlr0=0.01, lrf=0.01, momentum=0.937, weight_decay=0.0005, warmup_epochs=3.0, warmup_momentum=0.8, warmup_bias_lr=0.1, box=0.05, cls=0.5, cls_pw=1.0, obj=1.0, obj_pw=1.0, iou_t=0.2, anchor_t=4.0, fl_gamma=0.0, hsv_h=0.015, hsv_s=0.7, hsv_v=0.4, degrees=0.0, translate=0.1, scale=0.5, shear=0.0, perspective=0.0, flipud=0.0, fliplr=0.5, mosaic=1.0, mixup=0.0, copy_paste=0.0\n",
            "\u001b[34m\u001b[1mTensorBoard: \u001b[0mStart with 'tensorboard --logdir runs/train', view at http://localhost:6006/\n",
            "\u001b[34m\u001b[1mwandb\u001b[0m: Tracking run with wandb version 0.12.21\n",
            "\u001b[34m\u001b[1mwandb\u001b[0m: Run data is saved locally in \u001b[35m\u001b[1m/content/yolov5/wandb/run-20220711_094941-1gbr012d\u001b[0m\n",
            "\u001b[34m\u001b[1mwandb\u001b[0m: Run \u001b[1m`wandb offline`\u001b[0m to turn off syncing.\n",
            "\u001b[34m\u001b[1mwandb\u001b[0m: Syncing run \u001b[33mconfused-voice-7\u001b[0m\n",
            "\u001b[34m\u001b[1mwandb\u001b[0m: ⭐️ View project at \u001b[34m\u001b[4mhttps://wandb.ai/danesig/YOLOv5\u001b[0m\n",
            "\u001b[34m\u001b[1mwandb\u001b[0m: 🚀 View run at \u001b[34m\u001b[4mhttps://wandb.ai/danesig/YOLOv5/runs/1gbr012d\u001b[0m\n",
            "YOLOv5 temporarily requires wandb version 0.12.10 or below. Some features may not work as expected.\n",
            "Overriding model.yaml nc=80 with nc=1\n",
            "\n",
            "                 from  n    params  module                                  arguments                     \n",
            "  0                -1  1      3520  models.common.Conv                      [3, 32, 6, 2, 2]              \n",
            "  1                -1  1     18560  models.common.Conv                      [32, 64, 3, 2]                \n",
            "  2                -1  1     18816  models.common.C3                        [64, 64, 1]                   \n",
            "  3                -1  1     73984  models.common.Conv                      [64, 128, 3, 2]               \n",
            "  4                -1  2    115712  models.common.C3                        [128, 128, 2]                 \n",
            "  5                -1  1    295424  models.common.Conv                      [128, 256, 3, 2]              \n",
            "  6                -1  3    625152  models.common.C3                        [256, 256, 3]                 \n",
            "  7                -1  1   1180672  models.common.Conv                      [256, 512, 3, 2]              \n",
            "  8                -1  1   1182720  models.common.C3                        [512, 512, 1]                 \n",
            "  9                -1  1    656896  models.common.SPPF                      [512, 512, 5]                 \n",
            " 10                -1  1    131584  models.common.Conv                      [512, 256, 1, 1]              \n",
            " 11                -1  1         0  torch.nn.modules.upsampling.Upsample    [None, 2, 'nearest']          \n",
            " 12           [-1, 6]  1         0  models.common.Concat                    [1]                           \n",
            " 13                -1  1    361984  models.common.C3                        [512, 256, 1, False]          \n",
            " 14                -1  1     33024  models.common.Conv                      [256, 128, 1, 1]              \n",
            " 15                -1  1         0  torch.nn.modules.upsampling.Upsample    [None, 2, 'nearest']          \n",
            " 16           [-1, 4]  1         0  models.common.Concat                    [1]                           \n",
            " 17                -1  1     90880  models.common.C3                        [256, 128, 1, False]          \n",
            " 18                -1  1    147712  models.common.Conv                      [128, 128, 3, 2]              \n",
            " 19          [-1, 14]  1         0  models.common.Concat                    [1]                           \n",
            " 20                -1  1    296448  models.common.C3                        [256, 256, 1, False]          \n",
            " 21                -1  1    590336  models.common.Conv                      [256, 256, 3, 2]              \n",
            " 22          [-1, 10]  1         0  models.common.Concat                    [1]                           \n",
            " 23                -1  1   1182720  models.common.C3                        [512, 512, 1, False]          \n",
            " 24      [17, 20, 23]  1     16182  models.yolo.Detect                      [1, [[10, 13, 16, 30, 33, 23], [30, 61, 62, 45, 59, 119], [116, 90, 156, 198, 373, 326]], [128, 256, 512]]\n",
            "Model summary: 270 layers, 7022326 parameters, 7022326 gradients, 15.9 GFLOPs\n",
            "\n",
            "Transferred 343/349 items from yolov5s.pt\n",
            "\u001b[34m\u001b[1mAMP: \u001b[0mchecks passed ✅\n",
            "Scaled weight_decay = 0.0005\n",
            "\u001b[34m\u001b[1moptimizer:\u001b[0m SGD with parameter groups 57 weight (no decay), 60 weight, 60 bias\n",
            "\u001b[34m\u001b[1malbumentations: \u001b[0mversion 1.0.3 required by YOLOv5, but version 0.1.12 is currently installed\n",
            "\u001b[34m\u001b[1mtrain: \u001b[0mScanning '/content/yolov5/../yolov5/Olive_Detection_Tracking/labels/train.cache' images and labels... 179 found, 0 missing, 2 empty, 0 corrupt: 100% 179/179 [00:00<?, ?it/s]\n",
            "\u001b[34m\u001b[1mtrain: \u001b[0mWARNING: /content/yolov5/../yolov5/Olive_Detection_Tracking/images/train/DSC00302_07_02.jpg: 1 duplicate labels removed\n",
            "\u001b[34m\u001b[1mtrain: \u001b[0mCaching images (0.1GB ram): 100% 179/179 [00:00<00:00, 228.85it/s]\n",
            "\u001b[34m\u001b[1mval: \u001b[0mScanning '/content/yolov5/../yolov5/Olive_Detection_Tracking/labels/val.cache' images and labels... 44 found, 0 missing, 0 empty, 0 corrupt: 100% 44/44 [00:00<?, ?it/s]\n",
            "\u001b[34m\u001b[1mval: \u001b[0mCaching images (0.0GB ram): 100% 44/44 [00:00<00:00, 81.39it/s]\n",
            "Plotting labels to runs/train/exp7/labels.jpg... \n",
            "\n",
            "\u001b[34m\u001b[1mAutoAnchor: \u001b[0m5.93 anchors/target, 1.000 Best Possible Recall (BPR). Current anchors are a good fit to dataset ✅\n",
            "Image sizes 416 train, 416 val\n",
            "Using 2 dataloader workers\n",
            "Logging results to \u001b[1mruns/train/exp7\u001b[0m\n",
            "Starting training for 120 epochs...\n",
            "\n",
            "     Epoch   gpu_mem       box       obj       cls    labels  img_size\n",
            "     0/119     1.61G    0.1251   0.05305         0        29       416: 100% 12/12 [00:04<00:00,  2.84it/s]\n",
            "               Class     Images     Labels          P          R     mAP@.5 mAP@.5:.95: 100% 2/2 [00:00<00:00,  4.83it/s]\n",
            "                 all         44        327    0.00371       0.15    0.00265   0.000483\n",
            "\n",
            "     Epoch   gpu_mem       box       obj       cls    labels  img_size\n",
            "     1/119     1.87G    0.1169    0.0702         0        69       416: 100% 12/12 [00:01<00:00,  6.53it/s]\n",
            "               Class     Images     Labels          P          R     mAP@.5 mAP@.5:.95: 100% 2/2 [00:00<00:00,  4.59it/s]\n",
            "                 all         44        327      0.101     0.0703     0.0337    0.00745\n",
            "\n",
            "     Epoch   gpu_mem       box       obj       cls    labels  img_size\n",
            "     2/119     1.87G    0.1059   0.06189         0        43       416: 100% 12/12 [00:01<00:00,  6.67it/s]\n",
            "               Class     Images     Labels          P          R     mAP@.5 mAP@.5:.95: 100% 2/2 [00:00<00:00,  4.29it/s]\n",
            "                 all         44        327       0.24      0.242      0.146     0.0336\n",
            "\n",
            "     Epoch   gpu_mem       box       obj       cls    labels  img_size\n",
            "     3/119     1.87G   0.09755   0.06341         0        37       416: 100% 12/12 [00:01<00:00,  6.85it/s]\n",
            "               Class     Images     Labels          P          R     mAP@.5 mAP@.5:.95: 100% 2/2 [00:00<00:00,  4.63it/s]\n",
            "                 all         44        327     0.0559      0.542     0.0515     0.0142\n",
            "\n",
            "     Epoch   gpu_mem       box       obj       cls    labels  img_size\n",
            "     4/119     1.87G   0.09808   0.05098         0        16       416: 100% 12/12 [00:01<00:00,  6.86it/s]\n",
            "               Class     Images     Labels          P          R     mAP@.5 mAP@.5:.95: 100% 2/2 [00:00<00:00,  5.31it/s]\n",
            "                 all         44        327      0.239       0.28      0.191     0.0399\n",
            "\n",
            "     Epoch   gpu_mem       box       obj       cls    labels  img_size\n",
            "     5/119     1.87G   0.09765   0.05002         0        13       416: 100% 12/12 [00:01<00:00,  6.83it/s]\n",
            "               Class     Images     Labels          P          R     mAP@.5 mAP@.5:.95: 100% 2/2 [00:00<00:00,  5.95it/s]\n",
            "                 all         44        327      0.262      0.364      0.207     0.0465\n",
            "\n",
            "     Epoch   gpu_mem       box       obj       cls    labels  img_size\n",
            "     6/119     1.87G   0.08944   0.05167         0        34       416: 100% 12/12 [00:01<00:00,  6.75it/s]\n",
            "               Class     Images     Labels          P          R     mAP@.5 mAP@.5:.95: 100% 2/2 [00:00<00:00,  6.25it/s]\n",
            "                 all         44        327     0.0772      0.385     0.0625     0.0168\n",
            "\n",
            "     Epoch   gpu_mem       box       obj       cls    labels  img_size\n",
            "     7/119     1.87G   0.09746   0.04996         0        86       416: 100% 12/12 [00:01<00:00,  6.96it/s]\n",
            "               Class     Images     Labels          P          R     mAP@.5 mAP@.5:.95: 100% 2/2 [00:00<00:00,  6.44it/s]\n",
            "                 all         44        327      0.203      0.291      0.143      0.036\n",
            "\n",
            "     Epoch   gpu_mem       box       obj       cls    labels  img_size\n",
            "     8/119     1.87G   0.08779   0.05621         0        36       416: 100% 12/12 [00:01<00:00,  6.92it/s]\n",
            "               Class     Images     Labels          P          R     mAP@.5 mAP@.5:.95: 100% 2/2 [00:00<00:00,  6.64it/s]\n",
            "                 all         44        327      0.504      0.584      0.542       0.22\n",
            "\n",
            "     Epoch   gpu_mem       box       obj       cls    labels  img_size\n",
            "     9/119     1.87G   0.08788   0.04912         0        34       416: 100% 12/12 [00:01<00:00,  6.91it/s]\n",
            "               Class     Images     Labels          P          R     mAP@.5 mAP@.5:.95: 100% 2/2 [00:00<00:00,  6.98it/s]\n",
            "                 all         44        327      0.582      0.581      0.585      0.222\n",
            "\n",
            "     Epoch   gpu_mem       box       obj       cls    labels  img_size\n",
            "    10/119     1.87G   0.08241   0.05291         0        52       416: 100% 12/12 [00:01<00:00,  6.86it/s]\n",
            "               Class     Images     Labels          P          R     mAP@.5 mAP@.5:.95: 100% 2/2 [00:00<00:00,  6.85it/s]\n",
            "                 all         44        327      0.562      0.664      0.627      0.244\n",
            "\n",
            "     Epoch   gpu_mem       box       obj       cls    labels  img_size\n",
            "    11/119     1.87G   0.06933   0.06029         0        35       416: 100% 12/12 [00:01<00:00,  6.89it/s]\n",
            "               Class     Images     Labels          P          R     mAP@.5 mAP@.5:.95: 100% 2/2 [00:01<00:00,  1.62it/s]\n",
            "                 all         44        327      0.375      0.609      0.411       0.14\n",
            "\n",
            "     Epoch   gpu_mem       box       obj       cls    labels  img_size\n",
            "    12/119     1.87G   0.06854   0.05166         0        12       416: 100% 12/12 [00:01<00:00,  6.83it/s]\n",
            "               Class     Images     Labels          P          R     mAP@.5 mAP@.5:.95: 100% 2/2 [00:00<00:00,  7.65it/s]\n",
            "                 all         44        327      0.394      0.523      0.412      0.177\n",
            "\n",
            "     Epoch   gpu_mem       box       obj       cls    labels  img_size\n",
            "    13/119     1.87G   0.06212   0.06632         0        17       416: 100% 12/12 [00:01<00:00,  6.89it/s]\n",
            "               Class     Images     Labels          P          R     mAP@.5 mAP@.5:.95: 100% 2/2 [00:00<00:00,  7.39it/s]\n",
            "                 all         44        327      0.331      0.606      0.407      0.131\n",
            "\n",
            "     Epoch   gpu_mem       box       obj       cls    labels  img_size\n",
            "    14/119     1.87G   0.05823   0.05942         0        26       416: 100% 12/12 [00:01<00:00,  6.94it/s]\n",
            "               Class     Images     Labels          P          R     mAP@.5 mAP@.5:.95: 100% 2/2 [00:00<00:00,  7.49it/s]\n",
            "                 all         44        327      0.527      0.639       0.59      0.234\n",
            "\n",
            "     Epoch   gpu_mem       box       obj       cls    labels  img_size\n",
            "    15/119     1.87G   0.05771   0.04884         0        27       416: 100% 12/12 [00:01<00:00,  6.83it/s]\n",
            "               Class     Images     Labels          P          R     mAP@.5 mAP@.5:.95: 100% 2/2 [00:00<00:00,  7.26it/s]\n",
            "                 all         44        327      0.634      0.662      0.719      0.373\n",
            "\n",
            "     Epoch   gpu_mem       box       obj       cls    labels  img_size\n",
            "    16/119     1.87G   0.06366   0.06005         0        33       416: 100% 12/12 [00:01<00:00,  7.09it/s]\n",
            "               Class     Images     Labels          P          R     mAP@.5 mAP@.5:.95: 100% 2/2 [00:00<00:00,  6.89it/s]\n",
            "                 all         44        327      0.785      0.676      0.805      0.407\n",
            "\n",
            "     Epoch   gpu_mem       box       obj       cls    labels  img_size\n",
            "    17/119     1.87G   0.05504   0.05357         0        26       416: 100% 12/12 [00:01<00:00,  6.97it/s]\n",
            "               Class     Images     Labels          P          R     mAP@.5 mAP@.5:.95: 100% 2/2 [00:00<00:00,  6.97it/s]\n",
            "                 all         44        327      0.753      0.639      0.734      0.359\n",
            "\n",
            "     Epoch   gpu_mem       box       obj       cls    labels  img_size\n",
            "    18/119     1.87G   0.05317   0.05162         0        42       416: 100% 12/12 [00:01<00:00,  6.91it/s]\n",
            "               Class     Images     Labels          P          R     mAP@.5 mAP@.5:.95: 100% 2/2 [00:00<00:00,  7.30it/s]\n",
            "                 all         44        327      0.674      0.779      0.806      0.447\n",
            "\n",
            "     Epoch   gpu_mem       box       obj       cls    labels  img_size\n",
            "    19/119     1.87G   0.05223   0.05292         0        50       416: 100% 12/12 [00:01<00:00,  6.97it/s]\n",
            "               Class     Images     Labels          P          R     mAP@.5 mAP@.5:.95: 100% 2/2 [00:00<00:00,  6.94it/s]\n",
            "                 all         44        327      0.864       0.78      0.886      0.471\n",
            "\n",
            "     Epoch   gpu_mem       box       obj       cls    labels  img_size\n",
            "    20/119     1.87G   0.05465   0.04945         0        25       416: 100% 12/12 [00:01<00:00,  7.09it/s]\n",
            "               Class     Images     Labels          P          R     mAP@.5 mAP@.5:.95: 100% 2/2 [00:00<00:00,  7.32it/s]\n",
            "                 all         44        327      0.734      0.753       0.81      0.432\n",
            "\n",
            "     Epoch   gpu_mem       box       obj       cls    labels  img_size\n",
            "    21/119     1.87G   0.04498    0.0479         0        22       416: 100% 12/12 [00:01<00:00,  7.08it/s]\n",
            "               Class     Images     Labels          P          R     mAP@.5 mAP@.5:.95: 100% 2/2 [00:00<00:00,  7.17it/s]\n",
            "                 all         44        327      0.854      0.717      0.863      0.508\n",
            "\n",
            "     Epoch   gpu_mem       box       obj       cls    labels  img_size\n",
            "    22/119     1.87G    0.0469   0.04741         0        29       416: 100% 12/12 [00:01<00:00,  6.96it/s]\n",
            "               Class     Images     Labels          P          R     mAP@.5 mAP@.5:.95: 100% 2/2 [00:00<00:00,  7.11it/s]\n",
            "                 all         44        327      0.855      0.789      0.893       0.52\n",
            "\n",
            "     Epoch   gpu_mem       box       obj       cls    labels  img_size\n",
            "    23/119     1.87G   0.04399   0.05296         0        55       416: 100% 12/12 [00:01<00:00,  6.98it/s]\n",
            "               Class     Images     Labels          P          R     mAP@.5 mAP@.5:.95: 100% 2/2 [00:01<00:00,  1.74it/s]\n",
            "                 all         44        327      0.845      0.798      0.881      0.492\n",
            "\n",
            "     Epoch   gpu_mem       box       obj       cls    labels  img_size\n",
            "    24/119     1.87G   0.04533   0.04654         0        25       416: 100% 12/12 [00:01<00:00,  6.84it/s]\n",
            "               Class     Images     Labels          P          R     mAP@.5 mAP@.5:.95: 100% 2/2 [00:00<00:00,  7.06it/s]\n",
            "                 all         44        327      0.884      0.791        0.9      0.547\n",
            "\n",
            "     Epoch   gpu_mem       box       obj       cls    labels  img_size\n",
            "    25/119     1.87G   0.04439    0.0501         0        58       416: 100% 12/12 [00:01<00:00,  7.06it/s]\n",
            "               Class     Images     Labels          P          R     mAP@.5 mAP@.5:.95: 100% 2/2 [00:00<00:00,  7.24it/s]\n",
            "                 all         44        327      0.898      0.792      0.904      0.548\n",
            "\n",
            "     Epoch   gpu_mem       box       obj       cls    labels  img_size\n",
            "    26/119     1.87G    0.0461   0.04995         0        63       416: 100% 12/12 [00:01<00:00,  6.92it/s]\n",
            "               Class     Images     Labels          P          R     mAP@.5 mAP@.5:.95: 100% 2/2 [00:00<00:00,  7.18it/s]\n",
            "                 all         44        327      0.874       0.81      0.904       0.53\n",
            "\n",
            "     Epoch   gpu_mem       box       obj       cls    labels  img_size\n",
            "    27/119     1.87G   0.04198   0.04805         0        27       416: 100% 12/12 [00:01<00:00,  6.73it/s]\n",
            "               Class     Images     Labels          P          R     mAP@.5 mAP@.5:.95: 100% 2/2 [00:00<00:00,  7.43it/s]\n",
            "                 all         44        327      0.874      0.831      0.905      0.503\n",
            "\n",
            "     Epoch   gpu_mem       box       obj       cls    labels  img_size\n",
            "    28/119     1.87G   0.04777   0.04783         0        49       416: 100% 12/12 [00:01<00:00,  6.83it/s]\n",
            "               Class     Images     Labels          P          R     mAP@.5 mAP@.5:.95: 100% 2/2 [00:00<00:00,  7.04it/s]\n",
            "                 all         44        327      0.895       0.81      0.905      0.552\n",
            "\n",
            "     Epoch   gpu_mem       box       obj       cls    labels  img_size\n",
            "    29/119     1.87G   0.03893   0.04305         0        11       416: 100% 12/12 [00:01<00:00,  6.80it/s]\n",
            "               Class     Images     Labels          P          R     mAP@.5 mAP@.5:.95: 100% 2/2 [00:00<00:00,  7.15it/s]\n",
            "                 all         44        327      0.883      0.835      0.913       0.55\n",
            "\n",
            "     Epoch   gpu_mem       box       obj       cls    labels  img_size\n",
            "    30/119     1.87G   0.04273    0.0461         0        53       416: 100% 12/12 [00:01<00:00,  6.79it/s]\n",
            "               Class     Images     Labels          P          R     mAP@.5 mAP@.5:.95: 100% 2/2 [00:00<00:00,  6.87it/s]\n",
            "                 all         44        327      0.857      0.826      0.906      0.552\n",
            "\n",
            "     Epoch   gpu_mem       box       obj       cls    labels  img_size\n",
            "    31/119     1.87G   0.04079   0.04785         0        41       416: 100% 12/12 [00:01<00:00,  6.83it/s]\n",
            "               Class     Images     Labels          P          R     mAP@.5 mAP@.5:.95: 100% 2/2 [00:00<00:00,  7.29it/s]\n",
            "                 all         44        327      0.882      0.843      0.918       0.57\n",
            "\n",
            "     Epoch   gpu_mem       box       obj       cls    labels  img_size\n",
            "    32/119     1.87G   0.04353     0.044         0        42       416: 100% 12/12 [00:01<00:00,  7.09it/s]\n",
            "               Class     Images     Labels          P          R     mAP@.5 mAP@.5:.95: 100% 2/2 [00:00<00:00,  7.21it/s]\n",
            "                 all         44        327      0.855      0.841      0.917      0.572\n",
            "\n",
            "     Epoch   gpu_mem       box       obj       cls    labels  img_size\n",
            "    33/119     1.87G   0.03793   0.04674         0        48       416: 100% 12/12 [00:01<00:00,  6.88it/s]\n",
            "               Class     Images     Labels          P          R     mAP@.5 mAP@.5:.95: 100% 2/2 [00:00<00:00,  7.24it/s]\n",
            "                 all         44        327      0.894      0.798      0.912      0.571\n",
            "\n",
            "     Epoch   gpu_mem       box       obj       cls    labels  img_size\n",
            "    34/119     1.87G   0.03659   0.04303         0        38       416: 100% 12/12 [00:02<00:00,  5.36it/s]\n",
            "               Class     Images     Labels          P          R     mAP@.5 mAP@.5:.95: 100% 2/2 [00:00<00:00,  5.39it/s]\n",
            "                 all         44        327      0.893      0.792      0.894      0.569\n",
            "\n",
            "     Epoch   gpu_mem       box       obj       cls    labels  img_size\n",
            "    35/119     1.87G   0.03963   0.04604         0        22       416: 100% 12/12 [00:01<00:00,  6.24it/s]\n",
            "               Class     Images     Labels          P          R     mAP@.5 mAP@.5:.95: 100% 2/2 [00:01<00:00,  1.89it/s]\n",
            "                 all         44        327      0.905      0.801      0.908      0.573\n",
            "\n",
            "     Epoch   gpu_mem       box       obj       cls    labels  img_size\n",
            "    36/119     1.87G   0.03903   0.04763         0        32       416: 100% 12/12 [00:01<00:00,  6.76it/s]\n",
            "               Class     Images     Labels          P          R     mAP@.5 mAP@.5:.95: 100% 2/2 [00:00<00:00,  7.29it/s]\n",
            "                 all         44        327      0.893      0.818       0.91      0.564\n",
            "\n",
            "     Epoch   gpu_mem       box       obj       cls    labels  img_size\n",
            "    37/119     1.87G   0.03798   0.04823         0        25       416: 100% 12/12 [00:01<00:00,  6.91it/s]\n",
            "               Class     Images     Labels          P          R     mAP@.5 mAP@.5:.95: 100% 2/2 [00:00<00:00,  6.93it/s]\n",
            "                 all         44        327      0.873      0.823      0.911      0.573\n",
            "\n",
            "     Epoch   gpu_mem       box       obj       cls    labels  img_size\n",
            "    38/119     1.87G   0.03924   0.04336         0        39       416: 100% 12/12 [00:01<00:00,  6.91it/s]\n",
            "               Class     Images     Labels          P          R     mAP@.5 mAP@.5:.95: 100% 2/2 [00:00<00:00,  7.24it/s]\n",
            "                 all         44        327      0.867      0.813      0.891      0.558\n",
            "\n",
            "     Epoch   gpu_mem       box       obj       cls    labels  img_size\n",
            "    39/119     1.87G   0.03643   0.04255         0        10       416: 100% 12/12 [00:01<00:00,  6.86it/s]\n",
            "               Class     Images     Labels          P          R     mAP@.5 mAP@.5:.95: 100% 2/2 [00:00<00:00,  7.29it/s]\n",
            "                 all         44        327      0.896      0.791      0.893      0.539\n",
            "\n",
            "     Epoch   gpu_mem       box       obj       cls    labels  img_size\n",
            "    40/119     1.87G   0.04187   0.04433         0        38       416: 100% 12/12 [00:01<00:00,  6.85it/s]\n",
            "               Class     Images     Labels          P          R     mAP@.5 mAP@.5:.95: 100% 2/2 [00:00<00:00,  7.12it/s]\n",
            "                 all         44        327      0.914      0.792      0.901      0.582\n",
            "\n",
            "     Epoch   gpu_mem       box       obj       cls    labels  img_size\n",
            "    41/119     1.87G   0.03663   0.04427         0        57       416: 100% 12/12 [00:01<00:00,  6.89it/s]\n",
            "               Class     Images     Labels          P          R     mAP@.5 mAP@.5:.95: 100% 2/2 [00:00<00:00,  6.91it/s]\n",
            "                 all         44        327      0.854      0.823      0.893      0.565\n",
            "\n",
            "     Epoch   gpu_mem       box       obj       cls    labels  img_size\n",
            "    42/119     1.87G   0.03458   0.04437         0        39       416: 100% 12/12 [00:01<00:00,  6.95it/s]\n",
            "               Class     Images     Labels          P          R     mAP@.5 mAP@.5:.95: 100% 2/2 [00:00<00:00,  7.28it/s]\n",
            "                 all         44        327      0.876      0.823      0.905      0.587\n",
            "\n",
            "     Epoch   gpu_mem       box       obj       cls    labels  img_size\n",
            "    43/119     1.87G   0.03669   0.04492         0        55       416: 100% 12/12 [00:01<00:00,  6.95it/s]\n",
            "               Class     Images     Labels          P          R     mAP@.5 mAP@.5:.95: 100% 2/2 [00:00<00:00,  6.98it/s]\n",
            "                 all         44        327      0.896      0.792      0.899      0.578\n",
            "\n",
            "     Epoch   gpu_mem       box       obj       cls    labels  img_size\n",
            "    44/119     1.87G   0.03461    0.0457         0        43       416: 100% 12/12 [00:01<00:00,  6.90it/s]\n",
            "               Class     Images     Labels          P          R     mAP@.5 mAP@.5:.95: 100% 2/2 [00:00<00:00,  7.27it/s]\n",
            "                 all         44        327      0.879       0.82      0.908      0.586\n",
            "\n",
            "     Epoch   gpu_mem       box       obj       cls    labels  img_size\n",
            "    45/119     1.87G   0.03512   0.04301         0        21       416: 100% 12/12 [00:01<00:00,  7.16it/s]\n",
            "               Class     Images     Labels          P          R     mAP@.5 mAP@.5:.95: 100% 2/2 [00:00<00:00,  7.07it/s]\n",
            "                 all         44        327      0.875       0.82      0.899      0.564\n",
            "\n",
            "     Epoch   gpu_mem       box       obj       cls    labels  img_size\n",
            "    46/119     1.87G   0.03602   0.04659         0        58       416: 100% 12/12 [00:01<00:00,  7.02it/s]\n",
            "               Class     Images     Labels          P          R     mAP@.5 mAP@.5:.95: 100% 2/2 [00:00<00:00,  6.82it/s]\n",
            "                 all         44        327      0.865      0.826      0.908      0.572\n",
            "\n",
            "     Epoch   gpu_mem       box       obj       cls    labels  img_size\n",
            "    47/119     1.87G   0.03717   0.04423         0        50       416: 100% 12/12 [00:01<00:00,  7.00it/s]\n",
            "               Class     Images     Labels          P          R     mAP@.5 mAP@.5:.95: 100% 2/2 [00:01<00:00,  1.87it/s]\n",
            "                 all         44        327      0.888      0.798      0.906      0.575\n",
            "\n",
            "     Epoch   gpu_mem       box       obj       cls    labels  img_size\n",
            "    48/119     1.87G   0.03809    0.0446         0        41       416: 100% 12/12 [00:01<00:00,  6.61it/s]\n",
            "               Class     Images     Labels          P          R     mAP@.5 mAP@.5:.95: 100% 2/2 [00:00<00:00,  7.45it/s]\n",
            "                 all         44        327      0.846      0.841      0.908      0.586\n",
            "\n",
            "     Epoch   gpu_mem       box       obj       cls    labels  img_size\n",
            "    49/119     1.87G   0.03311   0.04198         0        43       416: 100% 12/12 [00:01<00:00,  6.96it/s]\n",
            "               Class     Images     Labels          P          R     mAP@.5 mAP@.5:.95: 100% 2/2 [00:00<00:00,  7.26it/s]\n",
            "                 all         44        327      0.867      0.816      0.904      0.585\n",
            "\n",
            "     Epoch   gpu_mem       box       obj       cls    labels  img_size\n",
            "    50/119     1.87G   0.03573   0.04104         0        24       416: 100% 12/12 [00:01<00:00,  7.05it/s]\n",
            "               Class     Images     Labels          P          R     mAP@.5 mAP@.5:.95: 100% 2/2 [00:00<00:00,  6.95it/s]\n",
            "                 all         44        327      0.875      0.794      0.899      0.583\n",
            "\n",
            "     Epoch   gpu_mem       box       obj       cls    labels  img_size\n",
            "    51/119     1.87G   0.03363   0.03923         0        22       416: 100% 12/12 [00:01<00:00,  7.04it/s]\n",
            "               Class     Images     Labels          P          R     mAP@.5 mAP@.5:.95: 100% 2/2 [00:00<00:00,  7.08it/s]\n",
            "                 all         44        327       0.85      0.862      0.913      0.573\n",
            "\n",
            "     Epoch   gpu_mem       box       obj       cls    labels  img_size\n",
            "    52/119     1.87G   0.03453    0.0396         0        40       416: 100% 12/12 [00:01<00:00,  6.93it/s]\n",
            "               Class     Images     Labels          P          R     mAP@.5 mAP@.5:.95: 100% 2/2 [00:00<00:00,  7.15it/s]\n",
            "                 all         44        327      0.888      0.823       0.91      0.587\n",
            "\n",
            "     Epoch   gpu_mem       box       obj       cls    labels  img_size\n",
            "    53/119     1.87G   0.03636   0.03969         0        21       416: 100% 12/12 [00:01<00:00,  7.01it/s]\n",
            "               Class     Images     Labels          P          R     mAP@.5 mAP@.5:.95: 100% 2/2 [00:00<00:00,  6.94it/s]\n",
            "                 all         44        327      0.835      0.878      0.914      0.594\n",
            "\n",
            "     Epoch   gpu_mem       box       obj       cls    labels  img_size\n",
            "    54/119     1.87G   0.03419   0.04001         0        32       416: 100% 12/12 [00:01<00:00,  7.07it/s]\n",
            "               Class     Images     Labels          P          R     mAP@.5 mAP@.5:.95: 100% 2/2 [00:00<00:00,  7.04it/s]\n",
            "                 all         44        327      0.865      0.838      0.901      0.585\n",
            "\n",
            "     Epoch   gpu_mem       box       obj       cls    labels  img_size\n",
            "    55/119     1.87G   0.03618   0.04127         0        44       416: 100% 12/12 [00:01<00:00,  6.98it/s]\n",
            "               Class     Images     Labels          P          R     mAP@.5 mAP@.5:.95: 100% 2/2 [00:00<00:00,  7.22it/s]\n",
            "                 all         44        327      0.864      0.813      0.891      0.575\n",
            "\n",
            "     Epoch   gpu_mem       box       obj       cls    labels  img_size\n",
            "    56/119     1.87G   0.03392   0.03669         0        51       416: 100% 12/12 [00:01<00:00,  6.77it/s]\n",
            "               Class     Images     Labels          P          R     mAP@.5 mAP@.5:.95: 100% 2/2 [00:00<00:00,  7.35it/s]\n",
            "                 all         44        327      0.895      0.781      0.888      0.569\n",
            "\n",
            "     Epoch   gpu_mem       box       obj       cls    labels  img_size\n",
            "    57/119     1.87G   0.03594   0.03881         0        39       416: 100% 12/12 [00:01<00:00,  7.15it/s]\n",
            "               Class     Images     Labels          P          R     mAP@.5 mAP@.5:.95: 100% 2/2 [00:00<00:00,  7.34it/s]\n",
            "                 all         44        327      0.878      0.804      0.891      0.587\n",
            "\n",
            "     Epoch   gpu_mem       box       obj       cls    labels  img_size\n",
            "    58/119     1.87G   0.03161   0.03806         0        38       416: 100% 12/12 [00:01<00:00,  6.99it/s]\n",
            "               Class     Images     Labels          P          R     mAP@.5 mAP@.5:.95: 100% 2/2 [00:00<00:00,  7.28it/s]\n",
            "                 all         44        327      0.887      0.789      0.887      0.588\n",
            "\n",
            "     Epoch   gpu_mem       box       obj       cls    labels  img_size\n",
            "    59/119     1.87G   0.03206   0.04105         0        31       416: 100% 12/12 [00:01<00:00,  6.81it/s]\n",
            "               Class     Images     Labels          P          R     mAP@.5 mAP@.5:.95: 100% 2/2 [00:01<00:00,  1.90it/s]\n",
            "                 all         44        327       0.88      0.838      0.903      0.593\n",
            "\n",
            "     Epoch   gpu_mem       box       obj       cls    labels  img_size\n",
            "    60/119     1.87G   0.03188   0.03775         0        35       416: 100% 12/12 [00:01<00:00,  6.79it/s]\n",
            "               Class     Images     Labels          P          R     mAP@.5 mAP@.5:.95: 100% 2/2 [00:00<00:00,  6.37it/s]\n",
            "                 all         44        327      0.887      0.804      0.897      0.585\n",
            "\n",
            "     Epoch   gpu_mem       box       obj       cls    labels  img_size\n",
            "    61/119     1.87G   0.03148   0.03878         0        57       416: 100% 12/12 [00:01<00:00,  6.97it/s]\n",
            "               Class     Images     Labels          P          R     mAP@.5 mAP@.5:.95: 100% 2/2 [00:00<00:00,  7.23it/s]\n",
            "                 all         44        327      0.861      0.814      0.886      0.568\n",
            "\n",
            "     Epoch   gpu_mem       box       obj       cls    labels  img_size\n",
            "    62/119     1.87G   0.03183   0.03818         0        43       416: 100% 12/12 [00:01<00:00,  6.89it/s]\n",
            "               Class     Images     Labels          P          R     mAP@.5 mAP@.5:.95: 100% 2/2 [00:00<00:00,  7.36it/s]\n",
            "                 all         44        327      0.896      0.807      0.901      0.588\n",
            "\n",
            "     Epoch   gpu_mem       box       obj       cls    labels  img_size\n",
            "    63/119     1.87G   0.03181   0.03945         0        40       416: 100% 12/12 [00:01<00:00,  7.04it/s]\n",
            "               Class     Images     Labels          P          R     mAP@.5 mAP@.5:.95: 100% 2/2 [00:00<00:00,  6.81it/s]\n",
            "                 all         44        327      0.872      0.807        0.9      0.595\n",
            "\n",
            "     Epoch   gpu_mem       box       obj       cls    labels  img_size\n",
            "    64/119     1.87G   0.03421   0.04345         0        65       416: 100% 12/12 [00:01<00:00,  6.86it/s]\n",
            "               Class     Images     Labels          P          R     mAP@.5 mAP@.5:.95: 100% 2/2 [00:00<00:00,  7.10it/s]\n",
            "                 all         44        327      0.881      0.818      0.899      0.589\n",
            "\n",
            "     Epoch   gpu_mem       box       obj       cls    labels  img_size\n",
            "    65/119     1.87G   0.03445   0.03771         0        38       416: 100% 12/12 [00:01<00:00,  6.89it/s]\n",
            "               Class     Images     Labels          P          R     mAP@.5 mAP@.5:.95: 100% 2/2 [00:00<00:00,  7.04it/s]\n",
            "                 all         44        327      0.839      0.859      0.901      0.594\n",
            "\n",
            "     Epoch   gpu_mem       box       obj       cls    labels  img_size\n",
            "    66/119     1.87G    0.0304   0.03976         0        55       416: 100% 12/12 [00:01<00:00,  6.97it/s]\n",
            "               Class     Images     Labels          P          R     mAP@.5 mAP@.5:.95: 100% 2/2 [00:00<00:00,  7.00it/s]\n",
            "                 all         44        327       0.86      0.842      0.898      0.588\n",
            "\n",
            "     Epoch   gpu_mem       box       obj       cls    labels  img_size\n",
            "    67/119     1.87G   0.03334   0.03854         0        38       416: 100% 12/12 [00:01<00:00,  7.02it/s]\n",
            "               Class     Images     Labels          P          R     mAP@.5 mAP@.5:.95: 100% 2/2 [00:00<00:00,  7.32it/s]\n",
            "                 all         44        327      0.865      0.838      0.896      0.588\n",
            "\n",
            "     Epoch   gpu_mem       box       obj       cls    labels  img_size\n",
            "    68/119     1.87G   0.03401   0.04169         0        31       416: 100% 12/12 [00:01<00:00,  6.88it/s]\n",
            "               Class     Images     Labels          P          R     mAP@.5 mAP@.5:.95: 100% 2/2 [00:00<00:00,  7.21it/s]\n",
            "                 all         44        327      0.871      0.826      0.903      0.593\n",
            "\n",
            "     Epoch   gpu_mem       box       obj       cls    labels  img_size\n",
            "    69/119     1.87G    0.0319   0.03667         0        26       416: 100% 12/12 [00:01<00:00,  6.94it/s]\n",
            "               Class     Images     Labels          P          R     mAP@.5 mAP@.5:.95: 100% 2/2 [00:00<00:00,  6.98it/s]\n",
            "                 all         44        327      0.855      0.847      0.904      0.595\n",
            "\n",
            "     Epoch   gpu_mem       box       obj       cls    labels  img_size\n",
            "    70/119     1.87G   0.03285   0.03906         0        28       416: 100% 12/12 [00:01<00:00,  6.91it/s]\n",
            "               Class     Images     Labels          P          R     mAP@.5 mAP@.5:.95: 100% 2/2 [00:00<00:00,  7.47it/s]\n",
            "                 all         44        327      0.869      0.841      0.902      0.594\n",
            "\n",
            "     Epoch   gpu_mem       box       obj       cls    labels  img_size\n",
            "    71/119     1.87G    0.0301   0.03827         0        49       416: 100% 12/12 [00:01<00:00,  6.85it/s]\n",
            "               Class     Images     Labels          P          R     mAP@.5 mAP@.5:.95: 100% 2/2 [00:01<00:00,  1.91it/s]\n",
            "                 all         44        327      0.898      0.808      0.903      0.595\n",
            "\n",
            "     Epoch   gpu_mem       box       obj       cls    labels  img_size\n",
            "    72/119     1.87G    0.0302   0.03807         0        34       416: 100% 12/12 [00:01<00:00,  6.80it/s]\n",
            "               Class     Images     Labels          P          R     mAP@.5 mAP@.5:.95: 100% 2/2 [00:00<00:00,  7.00it/s]\n",
            "                 all         44        327      0.871      0.841      0.905       0.59\n",
            "\n",
            "     Epoch   gpu_mem       box       obj       cls    labels  img_size\n",
            "    73/119     1.87G    0.0307     0.038         0        42       416: 100% 12/12 [00:01<00:00,  6.95it/s]\n",
            "               Class     Images     Labels          P          R     mAP@.5 mAP@.5:.95: 100% 2/2 [00:00<00:00,  6.67it/s]\n",
            "                 all         44        327      0.897      0.807      0.904      0.597\n",
            "\n",
            "     Epoch   gpu_mem       box       obj       cls    labels  img_size\n",
            "    74/119     1.87G   0.03034   0.04049         0        58       416: 100% 12/12 [00:01<00:00,  6.99it/s]\n",
            "               Class     Images     Labels          P          R     mAP@.5 mAP@.5:.95: 100% 2/2 [00:00<00:00,  7.22it/s]\n",
            "                 all         44        327      0.868      0.828      0.907      0.596\n",
            "\n",
            "     Epoch   gpu_mem       box       obj       cls    labels  img_size\n",
            "    75/119     1.87G   0.02974   0.03626         0        18       416: 100% 12/12 [00:01<00:00,  6.92it/s]\n",
            "               Class     Images     Labels          P          R     mAP@.5 mAP@.5:.95: 100% 2/2 [00:00<00:00,  6.94it/s]\n",
            "                 all         44        327      0.879      0.832      0.912      0.601\n",
            "\n",
            "     Epoch   gpu_mem       box       obj       cls    labels  img_size\n",
            "    76/119     1.87G   0.03062   0.03875         0        37       416: 100% 12/12 [00:01<00:00,  6.96it/s]\n",
            "               Class     Images     Labels          P          R     mAP@.5 mAP@.5:.95: 100% 2/2 [00:00<00:00,  7.17it/s]\n",
            "                 all         44        327      0.883      0.831      0.909      0.605\n",
            "\n",
            "     Epoch   gpu_mem       box       obj       cls    labels  img_size\n",
            "    77/119     1.87G    0.0294   0.03525         0        30       416: 100% 12/12 [00:01<00:00,  6.80it/s]\n",
            "               Class     Images     Labels          P          R     mAP@.5 mAP@.5:.95: 100% 2/2 [00:00<00:00,  6.94it/s]\n",
            "                 all         44        327      0.882      0.822      0.907      0.597\n",
            "\n",
            "     Epoch   gpu_mem       box       obj       cls    labels  img_size\n",
            "    78/119     1.87G   0.02961   0.03756         0        24       416: 100% 12/12 [00:01<00:00,  6.91it/s]\n",
            "               Class     Images     Labels          P          R     mAP@.5 mAP@.5:.95: 100% 2/2 [00:00<00:00,  7.07it/s]\n",
            "                 all         44        327      0.902      0.818      0.908      0.603\n",
            "\n",
            "     Epoch   gpu_mem       box       obj       cls    labels  img_size\n",
            "    79/119     1.87G   0.03015   0.03616         0        31       416: 100% 12/12 [00:01<00:00,  6.94it/s]\n",
            "               Class     Images     Labels          P          R     mAP@.5 mAP@.5:.95: 100% 2/2 [00:00<00:00,  6.59it/s]\n",
            "                 all         44        327       0.87      0.838      0.909      0.603\n",
            "\n",
            "     Epoch   gpu_mem       box       obj       cls    labels  img_size\n",
            "    80/119     1.87G   0.02988   0.03946         0        34       416: 100% 12/12 [00:01<00:00,  6.86it/s]\n",
            "               Class     Images     Labels          P          R     mAP@.5 mAP@.5:.95: 100% 2/2 [00:00<00:00,  7.32it/s]\n",
            "                 all         44        327      0.874      0.846       0.91      0.592\n",
            "\n",
            "     Epoch   gpu_mem       box       obj       cls    labels  img_size\n",
            "    81/119     1.87G   0.02964   0.03731         0        37       416: 100% 12/12 [00:01<00:00,  6.96it/s]\n",
            "               Class     Images     Labels          P          R     mAP@.5 mAP@.5:.95: 100% 2/2 [00:00<00:00,  7.30it/s]\n",
            "                 all         44        327      0.878      0.839      0.914      0.603\n",
            "\n",
            "     Epoch   gpu_mem       box       obj       cls    labels  img_size\n",
            "    82/119     1.87G   0.02985    0.0369         0        47       416: 100% 12/12 [00:01<00:00,  6.88it/s]\n",
            "               Class     Images     Labels          P          R     mAP@.5 mAP@.5:.95: 100% 2/2 [00:00<00:00,  6.80it/s]\n",
            "                 all         44        327       0.86      0.829      0.903      0.604\n",
            "\n",
            "     Epoch   gpu_mem       box       obj       cls    labels  img_size\n",
            "    83/119     1.87G   0.02912   0.03418         0        13       416: 100% 12/12 [00:01<00:00,  6.90it/s]\n",
            "               Class     Images     Labels          P          R     mAP@.5 mAP@.5:.95: 100% 2/2 [00:01<00:00,  1.88it/s]\n",
            "                 all         44        327      0.872      0.832      0.909      0.606\n",
            "\n",
            "     Epoch   gpu_mem       box       obj       cls    labels  img_size\n",
            "    84/119     1.87G    0.0285   0.03447         0        29       416: 100% 12/12 [00:01<00:00,  6.66it/s]\n",
            "               Class     Images     Labels          P          R     mAP@.5 mAP@.5:.95: 100% 2/2 [00:00<00:00,  7.32it/s]\n",
            "                 all         44        327      0.889      0.809      0.907       0.61\n",
            "\n",
            "     Epoch   gpu_mem       box       obj       cls    labels  img_size\n",
            "    85/119     1.87G   0.02935   0.03944         0        31       416: 100% 12/12 [00:01<00:00,  7.02it/s]\n",
            "               Class     Images     Labels          P          R     mAP@.5 mAP@.5:.95: 100% 2/2 [00:00<00:00,  6.85it/s]\n",
            "                 all         44        327      0.916        0.8      0.905      0.599\n",
            "\n",
            "     Epoch   gpu_mem       box       obj       cls    labels  img_size\n",
            "    86/119     1.87G   0.02862   0.03484         0        26       416: 100% 12/12 [00:01<00:00,  6.93it/s]\n",
            "               Class     Images     Labels          P          R     mAP@.5 mAP@.5:.95: 100% 2/2 [00:00<00:00,  7.36it/s]\n",
            "                 all         44        327      0.888      0.817      0.908      0.602\n",
            "\n",
            "     Epoch   gpu_mem       box       obj       cls    labels  img_size\n",
            "    87/119     1.87G   0.02913    0.0381         0        56       416: 100% 12/12 [00:01<00:00,  6.88it/s]\n",
            "               Class     Images     Labels          P          R     mAP@.5 mAP@.5:.95: 100% 2/2 [00:00<00:00,  6.73it/s]\n",
            "                 all         44        327      0.872      0.832      0.908      0.603\n",
            "\n",
            "     Epoch   gpu_mem       box       obj       cls    labels  img_size\n",
            "    88/119     1.87G   0.02853   0.03744         0        27       416: 100% 12/12 [00:01<00:00,  6.89it/s]\n",
            "               Class     Images     Labels          P          R     mAP@.5 mAP@.5:.95: 100% 2/2 [00:00<00:00,  6.99it/s]\n",
            "                 all         44        327      0.871      0.838      0.905      0.598\n",
            "\n",
            "     Epoch   gpu_mem       box       obj       cls    labels  img_size\n",
            "    89/119     1.87G   0.02929   0.03736         0        24       416: 100% 12/12 [00:01<00:00,  6.97it/s]\n",
            "               Class     Images     Labels          P          R     mAP@.5 mAP@.5:.95: 100% 2/2 [00:00<00:00,  7.10it/s]\n",
            "                 all         44        327      0.879       0.85      0.909      0.593\n",
            "\n",
            "     Epoch   gpu_mem       box       obj       cls    labels  img_size\n",
            "    90/119     1.87G   0.02792   0.03735         0        27       416: 100% 12/12 [00:01<00:00,  6.74it/s]\n",
            "               Class     Images     Labels          P          R     mAP@.5 mAP@.5:.95: 100% 2/2 [00:00<00:00,  7.12it/s]\n",
            "                 all         44        327      0.847      0.867      0.911      0.597\n",
            "\n",
            "     Epoch   gpu_mem       box       obj       cls    labels  img_size\n",
            "    91/119     1.87G   0.02797   0.03614         0        39       416: 100% 12/12 [00:01<00:00,  6.99it/s]\n",
            "               Class     Images     Labels          P          R     mAP@.5 mAP@.5:.95: 100% 2/2 [00:00<00:00,  7.08it/s]\n",
            "                 all         44        327      0.871      0.844      0.907      0.597\n",
            "\n",
            "     Epoch   gpu_mem       box       obj       cls    labels  img_size\n",
            "    92/119     1.87G   0.02784   0.03501         0        41       416: 100% 12/12 [00:01<00:00,  6.86it/s]\n",
            "               Class     Images     Labels          P          R     mAP@.5 mAP@.5:.95: 100% 2/2 [00:00<00:00,  7.07it/s]\n",
            "                 all         44        327      0.829      0.858      0.903      0.595\n",
            "\n",
            "     Epoch   gpu_mem       box       obj       cls    labels  img_size\n",
            "    93/119     1.87G   0.02848   0.03393         0        23       416: 100% 12/12 [00:01<00:00,  7.03it/s]\n",
            "               Class     Images     Labels          P          R     mAP@.5 mAP@.5:.95: 100% 2/2 [00:00<00:00,  7.24it/s]\n",
            "                 all         44        327      0.853      0.853      0.902      0.597\n",
            "\n",
            "     Epoch   gpu_mem       box       obj       cls    labels  img_size\n",
            "    94/119     1.87G   0.02972   0.03459         0        24       416: 100% 12/12 [00:01<00:00,  6.92it/s]\n",
            "               Class     Images     Labels          P          R     mAP@.5 mAP@.5:.95: 100% 2/2 [00:00<00:00,  7.08it/s]\n",
            "                 all         44        327      0.893       0.82      0.901        0.6\n",
            "\n",
            "     Epoch   gpu_mem       box       obj       cls    labels  img_size\n",
            "    95/119     1.87G   0.02817   0.03809         0        46       416: 100% 12/12 [00:01<00:00,  6.98it/s]\n",
            "               Class     Images     Labels          P          R     mAP@.5 mAP@.5:.95: 100% 2/2 [00:01<00:00,  1.92it/s]\n",
            "                 all         44        327      0.891      0.848      0.908      0.604\n",
            "\n",
            "     Epoch   gpu_mem       box       obj       cls    labels  img_size\n",
            "    96/119     1.87G   0.02807   0.03438         0        22       416: 100% 12/12 [00:01<00:00,  6.75it/s]\n",
            "               Class     Images     Labels          P          R     mAP@.5 mAP@.5:.95: 100% 2/2 [00:00<00:00,  7.16it/s]\n",
            "                 all         44        327      0.899      0.844      0.914      0.607\n",
            "\n",
            "     Epoch   gpu_mem       box       obj       cls    labels  img_size\n",
            "    97/119     1.87G   0.02659   0.03204         0        12       416: 100% 12/12 [00:01<00:00,  7.06it/s]\n",
            "               Class     Images     Labels          P          R     mAP@.5 mAP@.5:.95: 100% 2/2 [00:00<00:00,  6.98it/s]\n",
            "                 all         44        327      0.901      0.844      0.909      0.607\n",
            "\n",
            "     Epoch   gpu_mem       box       obj       cls    labels  img_size\n",
            "    98/119     1.87G   0.02866   0.03749         0        60       416: 100% 12/12 [00:01<00:00,  6.92it/s]\n",
            "               Class     Images     Labels          P          R     mAP@.5 mAP@.5:.95: 100% 2/2 [00:00<00:00,  7.22it/s]\n",
            "                 all         44        327      0.891      0.844      0.908        0.6\n",
            "\n",
            "     Epoch   gpu_mem       box       obj       cls    labels  img_size\n",
            "    99/119     1.87G   0.02735   0.03633         0        41       416: 100% 12/12 [00:01<00:00,  6.92it/s]\n",
            "               Class     Images     Labels          P          R     mAP@.5 mAP@.5:.95: 100% 2/2 [00:00<00:00,  6.84it/s]\n",
            "                 all         44        327       0.88      0.856      0.907      0.601\n",
            "\n",
            "     Epoch   gpu_mem       box       obj       cls    labels  img_size\n",
            "   100/119     1.87G   0.02709   0.03658         0        47       416: 100% 12/12 [00:01<00:00,  6.74it/s]\n",
            "               Class     Images     Labels          P          R     mAP@.5 mAP@.5:.95: 100% 2/2 [00:00<00:00,  7.34it/s]\n",
            "                 all         44        327      0.882      0.862      0.912      0.606\n",
            "\n",
            "     Epoch   gpu_mem       box       obj       cls    labels  img_size\n",
            "   101/119     1.87G   0.02825   0.03608         0        43       416: 100% 12/12 [00:01<00:00,  6.79it/s]\n",
            "               Class     Images     Labels          P          R     mAP@.5 mAP@.5:.95: 100% 2/2 [00:00<00:00,  7.01it/s]\n",
            "                 all         44        327      0.878      0.858      0.909      0.605\n",
            "\n",
            "     Epoch   gpu_mem       box       obj       cls    labels  img_size\n",
            "   102/119     1.87G   0.02802   0.03532         0        42       416: 100% 12/12 [00:01<00:00,  6.92it/s]\n",
            "               Class     Images     Labels          P          R     mAP@.5 mAP@.5:.95: 100% 2/2 [00:00<00:00,  7.12it/s]\n",
            "                 all         44        327      0.891      0.848      0.912      0.613\n",
            "\n",
            "     Epoch   gpu_mem       box       obj       cls    labels  img_size\n",
            "   103/119     1.87G   0.02817   0.03519         0        43       416: 100% 12/12 [00:01<00:00,  6.81it/s]\n",
            "               Class     Images     Labels          P          R     mAP@.5 mAP@.5:.95: 100% 2/2 [00:00<00:00,  7.04it/s]\n",
            "                 all         44        327      0.883      0.829      0.912       0.61\n",
            "\n",
            "     Epoch   gpu_mem       box       obj       cls    labels  img_size\n",
            "   104/119     1.87G   0.02719   0.03452         0        22       416: 100% 12/12 [00:01<00:00,  6.91it/s]\n",
            "               Class     Images     Labels          P          R     mAP@.5 mAP@.5:.95: 100% 2/2 [00:00<00:00,  7.13it/s]\n",
            "                 all         44        327      0.902      0.817      0.906      0.604\n",
            "\n",
            "     Epoch   gpu_mem       box       obj       cls    labels  img_size\n",
            "   105/119     1.87G   0.02831   0.03532         0        31       416: 100% 12/12 [00:01<00:00,  6.81it/s]\n",
            "               Class     Images     Labels          P          R     mAP@.5 mAP@.5:.95: 100% 2/2 [00:00<00:00,  7.27it/s]\n",
            "                 all         44        327      0.894      0.826       0.91      0.607\n",
            "\n",
            "     Epoch   gpu_mem       box       obj       cls    labels  img_size\n",
            "   106/119     1.87G   0.02684   0.03406         0        42       416: 100% 12/12 [00:01<00:00,  6.86it/s]\n",
            "               Class     Images     Labels          P          R     mAP@.5 mAP@.5:.95: 100% 2/2 [00:00<00:00,  7.32it/s]\n",
            "                 all         44        327      0.902      0.829      0.915      0.615\n",
            "\n",
            "     Epoch   gpu_mem       box       obj       cls    labels  img_size\n",
            "   107/119     1.87G   0.02813   0.03139         0        16       416: 100% 12/12 [00:01<00:00,  6.80it/s]\n",
            "               Class     Images     Labels          P          R     mAP@.5 mAP@.5:.95: 100% 2/2 [00:01<00:00,  1.93it/s]\n",
            "                 all         44        327      0.881      0.853      0.914       0.61\n",
            "\n",
            "     Epoch   gpu_mem       box       obj       cls    labels  img_size\n",
            "   108/119     1.87G    0.0267   0.03203         0        31       416: 100% 12/12 [00:01<00:00,  6.54it/s]\n",
            "               Class     Images     Labels          P          R     mAP@.5 mAP@.5:.95: 100% 2/2 [00:00<00:00,  7.07it/s]\n",
            "                 all         44        327      0.872      0.856      0.917      0.613\n",
            "\n",
            "     Epoch   gpu_mem       box       obj       cls    labels  img_size\n",
            "   109/119     1.87G   0.02768   0.03598         0        33       416: 100% 12/12 [00:01<00:00,  7.02it/s]\n",
            "               Class     Images     Labels          P          R     mAP@.5 mAP@.5:.95: 100% 2/2 [00:00<00:00,  7.02it/s]\n",
            "                 all         44        327      0.872      0.859      0.916      0.608\n",
            "\n",
            "     Epoch   gpu_mem       box       obj       cls    labels  img_size\n",
            "   110/119     1.87G    0.0281   0.03519         0        36       416: 100% 12/12 [00:01<00:00,  6.93it/s]\n",
            "               Class     Images     Labels          P          R     mAP@.5 mAP@.5:.95: 100% 2/2 [00:00<00:00,  7.21it/s]\n",
            "                 all         44        327      0.868      0.867      0.918      0.611\n",
            "\n",
            "     Epoch   gpu_mem       box       obj       cls    labels  img_size\n",
            "   111/119     1.87G    0.0271   0.03441         0        27       416: 100% 12/12 [00:01<00:00,  6.95it/s]\n",
            "               Class     Images     Labels          P          R     mAP@.5 mAP@.5:.95: 100% 2/2 [00:00<00:00,  7.13it/s]\n",
            "                 all         44        327       0.89      0.856      0.917      0.615\n",
            "\n",
            "     Epoch   gpu_mem       box       obj       cls    labels  img_size\n",
            "   112/119     1.87G   0.02768   0.03423         0        53       416: 100% 12/12 [00:01<00:00,  6.82it/s]\n",
            "               Class     Images     Labels          P          R     mAP@.5 mAP@.5:.95: 100% 2/2 [00:00<00:00,  7.33it/s]\n",
            "                 all         44        327      0.902      0.843      0.918       0.61\n",
            "\n",
            "     Epoch   gpu_mem       box       obj       cls    labels  img_size\n",
            "   113/119     1.87G    0.0268   0.03299         0        49       416: 100% 12/12 [00:01<00:00,  6.74it/s]\n",
            "               Class     Images     Labels          P          R     mAP@.5 mAP@.5:.95: 100% 2/2 [00:00<00:00,  7.29it/s]\n",
            "                 all         44        327      0.899      0.844      0.917      0.612\n",
            "\n",
            "     Epoch   gpu_mem       box       obj       cls    labels  img_size\n",
            "   114/119     1.87G   0.02674   0.03399         0        62       416: 100% 12/12 [00:01<00:00,  7.00it/s]\n",
            "               Class     Images     Labels          P          R     mAP@.5 mAP@.5:.95: 100% 2/2 [00:00<00:00,  7.02it/s]\n",
            "                 all         44        327      0.892      0.841      0.918      0.613\n",
            "\n",
            "     Epoch   gpu_mem       box       obj       cls    labels  img_size\n",
            "   115/119     1.87G   0.02809   0.03401         0        53       416: 100% 12/12 [00:01<00:00,  6.92it/s]\n",
            "               Class     Images     Labels          P          R     mAP@.5 mAP@.5:.95: 100% 2/2 [00:00<00:00,  6.98it/s]\n",
            "                 all         44        327      0.893      0.843      0.917      0.616\n",
            "\n",
            "     Epoch   gpu_mem       box       obj       cls    labels  img_size\n",
            "   116/119     1.87G   0.02725   0.03567         0        23       416: 100% 12/12 [00:01<00:00,  6.89it/s]\n",
            "               Class     Images     Labels          P          R     mAP@.5 mAP@.5:.95: 100% 2/2 [00:00<00:00,  6.77it/s]\n",
            "                 all         44        327       0.89       0.85      0.914      0.615\n",
            "\n",
            "     Epoch   gpu_mem       box       obj       cls    labels  img_size\n",
            "   117/119     1.87G   0.02679   0.03546         0        25       416: 100% 12/12 [00:01<00:00,  6.88it/s]\n",
            "               Class     Images     Labels          P          R     mAP@.5 mAP@.5:.95: 100% 2/2 [00:00<00:00,  7.33it/s]\n",
            "                 all         44        327      0.892      0.857      0.917      0.612\n",
            "\n",
            "     Epoch   gpu_mem       box       obj       cls    labels  img_size\n",
            "   118/119     1.87G   0.02706   0.03309         0        27       416: 100% 12/12 [00:01<00:00,  6.76it/s]\n",
            "               Class     Images     Labels          P          R     mAP@.5 mAP@.5:.95: 100% 2/2 [00:00<00:00,  7.36it/s]\n",
            "                 all         44        327       0.89      0.859      0.915      0.614\n",
            "\n",
            "     Epoch   gpu_mem       box       obj       cls    labels  img_size\n",
            "   119/119     1.87G   0.02794   0.03631         0        53       416: 100% 12/12 [00:01<00:00,  6.90it/s]\n",
            "               Class     Images     Labels          P          R     mAP@.5 mAP@.5:.95: 100% 2/2 [00:01<00:00,  1.90it/s]\n",
            "                 all         44        327      0.885      0.856      0.911      0.615\n",
            "\n",
            "120 epochs completed in 0.088 hours.\n",
            "Optimizer stripped from runs/train/exp7/weights/last.pt, 14.3MB\n",
            "Optimizer stripped from runs/train/exp7/weights/best.pt, 14.3MB\n",
            "\n",
            "Validating runs/train/exp7/weights/best.pt...\n",
            "Fusing layers... \n",
            "Model summary: 213 layers, 7012822 parameters, 0 gradients, 15.8 GFLOPs\n",
            "               Class     Images     Labels          P          R     mAP@.5 mAP@.5:.95: 100% 2/2 [00:01<00:00,  1.18it/s]\n",
            "                 all         44        327      0.893      0.842      0.918      0.616\n",
            "Results saved to \u001b[1mruns/train/exp7\u001b[0m\n",
            "\u001b[34m\u001b[1mwandb\u001b[0m: Waiting for W&B process to finish... \u001b[32m(success).\u001b[0m\n",
            "\u001b[34m\u001b[1mwandb\u001b[0m:                                                                                \n",
            "\u001b[34m\u001b[1mwandb\u001b[0m: \n",
            "\u001b[34m\u001b[1mwandb\u001b[0m: Run history:\n",
            "\u001b[34m\u001b[1mwandb\u001b[0m:      metrics/mAP_0.5 ▁▁▁▅▄▆▇█████████████████████████████████\n",
            "\u001b[34m\u001b[1mwandb\u001b[0m: metrics/mAP_0.5:0.95 ▁▁▁▄▃▅▆▇▇▇▇▇▇██▇████▇███████████████████\n",
            "\u001b[34m\u001b[1mwandb\u001b[0m:    metrics/precision ▁▁▂▅▄▆▆███████████████████████▇█████████\n",
            "\u001b[34m\u001b[1mwandb\u001b[0m:       metrics/recall ▁▅▃▅▅▆▇▇▇██▇█▇▇█▇█▇▇▇███▇███████████████\n",
            "\u001b[34m\u001b[1mwandb\u001b[0m:       train/box_loss █▆▅▅▄▃▃▂▂▂▂▂▂▂▂▂▂▂▂▂▁▂▁▁▁▁▁▁▁▁▁▁▁▁▁▁▁▁▁▁\n",
            "\u001b[34m\u001b[1mwandb\u001b[0m:       train/cls_loss ▁▁▁▁▁▁▁▁▁▁▁▁▁▁▁▁▁▁▁▁▁▁▁▁▁▁▁▁▁▁▁▁▁▁▁▁▁▁▁▁\n",
            "\u001b[34m\u001b[1mwandb\u001b[0m:       train/obj_loss ▆█▅▅▅▅▅▅▄▅▄▄▄▃▄▃▄▃▃▃▃▄▂▃▂▂▂▂▃▂▂▂▁▂▂▁▂▁▁▂\n",
            "\u001b[34m\u001b[1mwandb\u001b[0m:         val/box_loss █▆▆▅▃▃▂▂▂▂▁▁▁▁▁▁▁▁▁▁▁▁▁▁▁▁▁▁▁▁▁▁▁▁▁▁▁▁▁▁\n",
            "\u001b[34m\u001b[1mwandb\u001b[0m:         val/cls_loss ▁▁▁▁▁▁▁▁▁▁▁▁▁▁▁▁▁▁▁▁▁▁▁▁▁▁▁▁▁▁▁▁▁▁▁▁▁▁▁▁\n",
            "\u001b[34m\u001b[1mwandb\u001b[0m:         val/obj_loss ▂█▇▂▂▂▂▁▁▁▁▁▁▁▁▁▁▁▁▁▂▁▁▁▁▁▁▁▁▁▁▁▁▁▁▁▁▁▁▁\n",
            "\u001b[34m\u001b[1mwandb\u001b[0m:                x/lr0 █▅▃▂▂▂▂▂▂▂▂▂▂▂▁▁▁▁▁▁▁▁▁▁▁▁▁▁▁▁▁▁▁▁▁▁▁▁▁▁\n",
            "\u001b[34m\u001b[1mwandb\u001b[0m:                x/lr1 ▂▄▇███▇▇▇▇▇▆▆▆▆▆▆▅▅▅▅▄▄▄▄▄▄▃▃▃▃▃▂▂▂▂▂▁▁▁\n",
            "\u001b[34m\u001b[1mwandb\u001b[0m:                x/lr2 ▂▄▇███▇▇▇▇▇▆▆▆▆▆▆▅▅▅▅▄▄▄▄▄▄▃▃▃▃▃▂▂▂▂▂▁▁▁\n",
            "\u001b[34m\u001b[1mwandb\u001b[0m: \n",
            "\u001b[34m\u001b[1mwandb\u001b[0m: Run summary:\n",
            "\u001b[34m\u001b[1mwandb\u001b[0m:           best/epoch 115\n",
            "\u001b[34m\u001b[1mwandb\u001b[0m:         best/mAP_0.5 0.91687\n",
            "\u001b[34m\u001b[1mwandb\u001b[0m:    best/mAP_0.5:0.95 0.61574\n",
            "\u001b[34m\u001b[1mwandb\u001b[0m:       best/precision 0.89303\n",
            "\u001b[34m\u001b[1mwandb\u001b[0m:          best/recall 0.84253\n",
            "\u001b[34m\u001b[1mwandb\u001b[0m:      metrics/mAP_0.5 0.91779\n",
            "\u001b[34m\u001b[1mwandb\u001b[0m: metrics/mAP_0.5:0.95 0.6161\n",
            "\u001b[34m\u001b[1mwandb\u001b[0m:    metrics/precision 0.89302\n",
            "\u001b[34m\u001b[1mwandb\u001b[0m:       metrics/recall 0.84239\n",
            "\u001b[34m\u001b[1mwandb\u001b[0m:       train/box_loss 0.02794\n",
            "\u001b[34m\u001b[1mwandb\u001b[0m:       train/cls_loss 0.0\n",
            "\u001b[34m\u001b[1mwandb\u001b[0m:       train/obj_loss 0.03631\n",
            "\u001b[34m\u001b[1mwandb\u001b[0m:         val/box_loss 0.03073\n",
            "\u001b[34m\u001b[1mwandb\u001b[0m:         val/cls_loss 0.0\n",
            "\u001b[34m\u001b[1mwandb\u001b[0m:         val/obj_loss 0.03929\n",
            "\u001b[34m\u001b[1mwandb\u001b[0m:                x/lr0 0.00027\n",
            "\u001b[34m\u001b[1mwandb\u001b[0m:                x/lr1 0.00027\n",
            "\u001b[34m\u001b[1mwandb\u001b[0m:                x/lr2 0.00027\n",
            "\u001b[34m\u001b[1mwandb\u001b[0m: \n",
            "\u001b[34m\u001b[1mwandb\u001b[0m: Synced \u001b[33mconfused-voice-7\u001b[0m: \u001b[34m\u001b[4mhttps://wandb.ai/danesig/YOLOv5/runs/1gbr012d\u001b[0m\n",
            "\u001b[34m\u001b[1mwandb\u001b[0m: Synced 5 W&B file(s), 335 media file(s), 1 artifact file(s) and 0 other file(s)\n",
            "\u001b[34m\u001b[1mwandb\u001b[0m: Find logs at: \u001b[35m\u001b[1m./wandb/run-20220711_094941-1gbr012d/logs\u001b[0m\n"
          ]
        }
      ],
      "source": [
        "!python train.py --img 416 --batch 16 --epochs 120 --data dataset.yaml --weights yolov5s.pt --cache "
      ]
    },
    {
      "cell_type": "code",
      "execution_count": null,
      "metadata": {
        "id": "WVPNmvmeBjeH"
      },
      "outputs": [],
      "source": [
        "#visualizzazione dati "
      ]
    },
    {
      "cell_type": "code",
      "execution_count": null,
      "metadata": {
        "id": "1jS9_BxdBBHL"
      },
      "outputs": [],
      "source": [
        "# Start tensorboard\n",
        "# Launch after you have started training\n",
        "# logs save in the folder \"runs\"\n",
        "%load_ext tensorboard\n",
        "%tensorboard --logdir runs"
      ]
    },
    {
      "cell_type": "code",
      "execution_count": null,
      "metadata": {
        "id": "keBLWhqq6-6r"
      },
      "outputs": [],
      "source": [
        "#Controllo dove vengono salvati runs/train/.. i risulati e aggiorna directory"
      ]
    },
    {
      "cell_type": "code",
      "execution_count": null,
      "metadata": {
        "id": "mzjZGcbppWH5"
      },
      "outputs": [],
      "source": [
        "Image.open('runs/train/exp/train_batch0.jpg')"
      ]
    },
    {
      "cell_type": "code",
      "execution_count": null,
      "metadata": {
        "id": "ALvK-lsGpcmX"
      },
      "outputs": [],
      "source": [
        "Image.open('runs/train/exp/val_batch0_labels.jpg')"
      ]
    },
    {
      "cell_type": "code",
      "execution_count": null,
      "metadata": {
        "id": "4iNGricnPehg"
      },
      "outputs": [],
      "source": [
        "Image.open('runs/train/exp/val_batch0_pred.jpg')"
      ]
    },
    {
      "cell_type": "code",
      "execution_count": null,
      "metadata": {
        "id": "dFNHaro4piZf"
      },
      "outputs": [],
      "source": [
        "\n",
        "file_csv=pd.read_csv('runs/train/exp/results.csv')\n",
        "file_csv.head(-1)\n"
      ]
    },
    {
      "cell_type": "code",
      "execution_count": null,
      "metadata": {
        "id": "IHipLAoJxDhH"
      },
      "outputs": [],
      "source": [
        "Image.open('runs/train/exp/results.png')"
      ]
    },
    {
      "cell_type": "code",
      "execution_count": null,
      "metadata": {
        "id": "25Nnrwd8c-ih"
      },
      "outputs": [],
      "source": [
        "!python detect.py --source Olive_Detection_Tracking/frame_video --data data/dataset.yaml --weights runs/train/exp6/weights/best.pt --save-txt --conf-thres 0.40 "
      ]
    },
    {
      "cell_type": "code",
      "source": [
        "Image.open('runs/detect/exp8/video2_frame_91.jpg')"
      ],
      "metadata": {
        "id": "BCZsjDDSHgMv"
      },
      "execution_count": null,
      "outputs": []
    },
    {
      "cell_type": "code",
      "source": [
        "!zip -r labels.zip runs/detect/exp10/labels"
      ],
      "metadata": {
        "id": "5HvS-pixupJv"
      },
      "execution_count": null,
      "outputs": []
    },
    {
      "cell_type": "code",
      "source": [
        "from google.colab import files\n",
        "files.download(\"labels.zip\")"
      ],
      "metadata": {
        "colab": {
          "base_uri": "https://localhost:8080/",
          "height": 17
        },
        "id": "htIUouvXvH_G",
        "outputId": "9eb02913-2fc9-4ce3-ddf7-a541f36a068e"
      },
      "execution_count": 48,
      "outputs": [
        {
          "output_type": "display_data",
          "data": {
            "text/plain": [
              "<IPython.core.display.Javascript object>"
            ],
            "application/javascript": [
              "\n",
              "    async function download(id, filename, size) {\n",
              "      if (!google.colab.kernel.accessAllowed) {\n",
              "        return;\n",
              "      }\n",
              "      const div = document.createElement('div');\n",
              "      const label = document.createElement('label');\n",
              "      label.textContent = `Downloading \"${filename}\": `;\n",
              "      div.appendChild(label);\n",
              "      const progress = document.createElement('progress');\n",
              "      progress.max = size;\n",
              "      div.appendChild(progress);\n",
              "      document.body.appendChild(div);\n",
              "\n",
              "      const buffers = [];\n",
              "      let downloaded = 0;\n",
              "\n",
              "      const channel = await google.colab.kernel.comms.open(id);\n",
              "      // Send a message to notify the kernel that we're ready.\n",
              "      channel.send({})\n",
              "\n",
              "      for await (const message of channel.messages) {\n",
              "        // Send a message to notify the kernel that we're ready.\n",
              "        channel.send({})\n",
              "        if (message.buffers) {\n",
              "          for (const buffer of message.buffers) {\n",
              "            buffers.push(buffer);\n",
              "            downloaded += buffer.byteLength;\n",
              "            progress.value = downloaded;\n",
              "          }\n",
              "        }\n",
              "      }\n",
              "      const blob = new Blob(buffers, {type: 'application/binary'});\n",
              "      const a = document.createElement('a');\n",
              "      a.href = window.URL.createObjectURL(blob);\n",
              "      a.download = filename;\n",
              "      div.appendChild(a);\n",
              "      a.click();\n",
              "      div.remove();\n",
              "    }\n",
              "  "
            ]
          },
          "metadata": {}
        },
        {
          "output_type": "display_data",
          "data": {
            "text/plain": [
              "<IPython.core.display.Javascript object>"
            ],
            "application/javascript": [
              "download(\"download_b4432564-37dd-428d-99ca-972348316c54\", \"labels.zip\", 23670)"
            ]
          },
          "metadata": {}
        }
      ]
    }
  ],
  "metadata": {
    "accelerator": "GPU",
    "colab": {
      "collapsed_sections": [],
      "name": "YOLOv5_olive.ipynb",
      "provenance": [],
      "authorship_tag": "ABX9TyNUaYsMRAdxwApFFezFmF+e",
      "include_colab_link": true
    },
    "gpuClass": "standard",
    "kernelspec": {
      "display_name": "Python 3",
      "name": "python3"
    },
    "language_info": {
      "name": "python"
    }
  },
  "nbformat": 4,
  "nbformat_minor": 0
}