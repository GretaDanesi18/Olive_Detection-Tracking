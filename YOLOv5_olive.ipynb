{
  "cells": [
    {
      "cell_type": "markdown",
      "metadata": {
        "id": "view-in-github",
        "colab_type": "text"
      },
      "source": [
        "<a href=\"https://colab.research.google.com/github/GretaDanesi18/Olive_Detection_Tracking/blob/main/YOLOv5_olive.ipynb\" target=\"_parent\"><img src=\"https://colab.research.google.com/assets/colab-badge.svg\" alt=\"Open In Colab\"/></a>"
      ]
    },
    {
      "cell_type": "markdown",
      "source": [
        "## **SETUP**"
      ],
      "metadata": {
        "id": "GxPdSlsjKIHo"
      }
    },
    {
      "cell_type": "markdown",
      "source": [
        "Per prima cosa cloniamo la repo contente la YOLOv5 e installiamo i requisiti"
      ],
      "metadata": {
        "id": "MSsEQC1mAh7A"
      }
    },
    {
      "cell_type": "code",
      "execution_count": null,
      "metadata": {
        "id": "rJLPGLRQgDJQ"
      },
      "outputs": [],
      "source": [
        "!git clone https://github.com/ultralytics/yolov5\n",
        "%cd yolov5\n",
        "! pip install -r requirements.txt"
      ]
    },
    {
      "cell_type": "markdown",
      "source": [
        "Importiamo le librerie necessarie"
      ],
      "metadata": {
        "id": "RvxnaUNGBCfU"
      }
    },
    {
      "cell_type": "code",
      "execution_count": 2,
      "metadata": {
        "id": "Ttf8iO2r7-KL"
      },
      "outputs": [],
      "source": [
        "import torch \n",
        "import os\n",
        "import random \n",
        "import shutil\n",
        "from IPython.display import Image\n",
        "from PIL import Image, ImageDraw\n",
        "import cv2\n",
        "import pandas as pd\n",
        "import subprocess\n",
        "from numpy import source\n"
      ]
    },
    {
      "cell_type": "markdown",
      "source": [
        "Controlliamo l'utilizzo del device GPU oppure CPU"
      ],
      "metadata": {
        "id": "wGdE_ROSBIhE"
      }
    },
    {
      "cell_type": "code",
      "execution_count": null,
      "metadata": {
        "id": "jhG6CGpt0mQ5"
      },
      "outputs": [],
      "source": [
        "if torch.cuda.is_available():\n",
        "    device = torch.device('cuda')\n",
        "else:\n",
        "    device = torch.device('cpu')\n",
        "    \n",
        "print('Using PyTorch version:', torch.__version__, ' Device:', device)"
      ]
    },
    {
      "cell_type": "markdown",
      "source": [
        "## **CREAZIONE DATASET SOURCE DETECTOR**"
      ],
      "metadata": {
        "id": "OopP-gXpKbwT"
      }
    },
    {
      "cell_type": "markdown",
      "source": [
        "Cloniamo la repo contente il dataset iniziale, i frame dei video e il file yaml"
      ],
      "metadata": {
        "id": "LZHeE-4dE5ZC"
      }
    },
    {
      "cell_type": "code",
      "execution_count": 21,
      "metadata": {
        "id": "jYkL4OdZ3SE4",
        "colab": {
          "base_uri": "https://localhost:8080/"
        },
        "outputId": "b0faafb5-2ab1-44b4-9483-17c3ae56118c"
      },
      "outputs": [
        {
          "output_type": "stream",
          "name": "stdout",
          "text": [
            "Cloning into 'Olive_Detection_Tracking'...\n",
            "remote: Enumerating objects: 1880, done.\u001b[K\n",
            "^C\n"
          ]
        }
      ],
      "source": [
        "!git clone https://github.com/GretaDanesi18/Olive_Detection_Tracking.git"
      ]
    },
    {
      "cell_type": "markdown",
      "source": [
        "Attraverso la libreria os creiamo le directory in cui inserire le labels e le immagini necessarie a creare il dataset per yolov5\n",
        "```\n",
        "/path/to/dataset/...\n",
        "+--images\n",
        "|   +---val\n",
        "         +-----image_1.jpg\n",
        "         +-----image_2.jpg\n",
        "         +-----image_n.jpg\n",
        "|   +---train\n",
        "        +-----image_1.jpg\n",
        "        +-----image_2.jpg\n",
        "        +-----image_n.jpg\n",
        "+--labels\n",
        "|   +---val\n",
        "         +-----label_1.txt\n",
        "         +-----label_2.txt\n",
        "         +-----label_n.txt\n",
        "|   +---train\n",
        "        +-----label_1.txt\n",
        "        +-----label_2.txt\n",
        "        +-----label_n.txt\n",
        "\n",
        "\n"
      ],
      "metadata": {
        "id": "IfJJbvJbE8g_"
      }
    },
    {
      "cell_type": "code",
      "execution_count": 22,
      "metadata": {
        "id": "YIUvadpF85ei"
      },
      "outputs": [],
      "source": [
        "try:\n",
        "  if not os.path.exists('/content/yolov5/Olive_Detection_Tracking/images/val'):\n",
        "    os.makedirs('/content/yolov5/Olive_Detection_Tracking/images/val')\n",
        "\n",
        "except OSError:\n",
        "    print('Errore nella creazione della cartella images/val')\n",
        "\n",
        "try:\n",
        "  if not os.path.exists('/content/yolov5/Olive_Detection_Tracking/images/train'):\n",
        "    os.makedirs('/content/yolov5/Olive_Detection_Tracking/images/train')\n",
        "\n",
        "except OSError:\n",
        "    print('Errore nella creazione della cartella images/train')\n",
        "\n",
        "try:\n",
        "  if not os.path.exists('/content/yolov5/Olive_Detection_Tracking/labels/val'):\n",
        "    os.makedirs('/content/yolov5/Olive_Detection_Tracking/labels/val')\n",
        "\n",
        "except OSError:\n",
        "    print('Errore nella creazione della cartella labels/val')\n",
        "\n",
        "try:\n",
        "  if not os.path.exists('/content/yolov5/Olive_Detection_Tracking/labels/train'):\n",
        "    os.makedirs('/content/yolov5/Olive_Detection_Tracking/labels/train')\n",
        "\n",
        "except OSError:\n",
        "    print('Errore nella creazione della cartella labels/train')\n"
      ]
    },
    {
      "cell_type": "markdown",
      "source": [
        "Attraverso degli array di appoggio dividiamo le labels dalle immagini, e settiamo le percentuali con cui fare lo split del dataset"
      ],
      "metadata": {
        "id": "inckMyLbCRBl"
      }
    },
    {
      "cell_type": "code",
      "execution_count": 23,
      "metadata": {
        "id": "o2f9vJvmC6kl",
        "colab": {
          "base_uri": "https://localhost:8080/"
        },
        "outputId": "90776e7b-e10a-4210-c14b-f1c81da91a54"
      },
      "outputs": [
        {
          "output_type": "stream",
          "name": "stdout",
          "text": [
            "Immagini per il training:  0\n",
            "Immagini per validation:  0\n"
          ]
        }
      ],
      "source": [
        "#array che contiene i file\n",
        "image = []\n",
        "label = [] \n",
        "\n",
        "#path\n",
        "all_data_path = '/content/yolov5/Olive_Detection_Tracking/dataset'\n",
        "train_image_path = '/content/yolov5/Olive_Detection_Tracking/images/train'\n",
        "val_image_path = '/content/yolov5/Olive_Detection_Tracking/images/val'\n",
        "train_label_path ='/content/yolov5/Olive_Detection_Tracking/labels/train'\n",
        "val_label_path = '/content/yolov5/Olive_Detection_Tracking/labels/val'\n",
        "\n",
        "\n",
        "#percentuale per train, val\n",
        "val_ratio = 0.2\n",
        "train_ratio = 0.8\n",
        "\n",
        "#inserisco file negli array corrispondenti\n",
        "for (dirname, dirs, files) in os.walk(all_data_path):\n",
        "    for filename in files:\n",
        "        if filename.endswith('.txt'):\n",
        "            label.append(filename)\n",
        "        else:\n",
        "            image.append(filename)\n",
        "\n",
        "#numero di immagini per train e per val\n",
        "num_train = int(len(image)*train_ratio)\n",
        "num_val = int(len(image)*val_ratio)\n",
        "\n",
        "print(\"Immagini per il training: \", num_train)\n",
        "print(\"Immagini per validation: \", num_val)\n",
        "\n"
      ]
    },
    {
      "cell_type": "markdown",
      "source": [
        "Con la funzione random separiamo in modo casuale le immagini usate per il traing da quelle usate per la validation\n",
        "Successivamente inseriamo le rispettive labels nella directory per il training oppure per la validation"
      ],
      "metadata": {
        "id": "u-bH0EU0CwtH"
      }
    },
    {
      "cell_type": "code",
      "execution_count": 24,
      "metadata": {
        "id": "vqS9BJb6zBxj"
      },
      "outputs": [],
      "source": [
        "#inserisco image e label in train\n",
        "for i in range(num_train):\n",
        "   file_image = random.choice(image)\n",
        "   file_image_name = file_image.split('.')[0]\n",
        "   file_label =  file_image_name+'.txt'\n",
        "\n",
        "   #sposto i file nella cartella train\n",
        "   shutil.copy(os.path.join(all_data_path, file_image), os.path.join(train_image_path, file_image))\n",
        "   shutil.copy(os.path.join(all_data_path, file_label), os.path.join(train_label_path, file_label))\n",
        "\n",
        "   #rimuovo i file da arrays\n",
        "   image.remove(file_image)\n",
        "   label.remove(file_label)\n",
        "    \n",
        "\n",
        "#inserisco image e label in val  \n",
        "for i in range(num_val):\n",
        "    file_image =random.choice(image) # get name of random image from origin dir\n",
        "    file_image_name = file_image.split('.')[0]\n",
        "    file_label = file_image_name+'.txt'\n",
        "\n",
        "    #move both files into train dir\n",
        "    shutil.copy(os.path.join(all_data_path, file_image), os.path.join(val_image_path, file_image))\n",
        "    shutil.copy(os.path.join(all_data_path, file_label), os.path.join(val_label_path, file_label))\n",
        "    \n",
        "    #rimuovo i file da arrays\n",
        "    image.remove(file_image)\n",
        "    label.remove(file_label)\n"
      ]
    },
    {
      "cell_type": "markdown",
      "source": [
        "Inseriamo file yaml nella directory data"
      ],
      "metadata": {
        "id": "EJ4yKYGmGHeA"
      }
    },
    {
      "cell_type": "code",
      "execution_count": null,
      "metadata": {
        "id": "gN5JAwB-5XwO"
      },
      "outputs": [],
      "source": [
        "source = 'Olive_Detection_Tracking/dataset.yaml'\n",
        "destination = 'data/dataset.yaml'\n",
        "shutil.copy(source,destination)"
      ]
    },
    {
      "cell_type": "markdown",
      "source": [
        "## **ADDESTRAMENTO SOURCE DETECTOR**"
      ],
      "metadata": {
        "id": "44G8CBlaKlS2"
      }
    },
    {
      "cell_type": "markdown",
      "source": [
        "Usiamo Weights & Biases per mostrare i risultati"
      ],
      "metadata": {
        "id": "81GdZpOoGK49"
      }
    },
    {
      "cell_type": "code",
      "execution_count": null,
      "metadata": {
        "id": "rQuyTZA78HiH"
      },
      "outputs": [],
      "source": [
        "#Weights & Biases\n",
        "%pip install -q wandb\n",
        "import wandb\n",
        "wandb.login()"
      ]
    },
    {
      "cell_type": "markdown",
      "source": [
        "Avviamo l'addestramento "
      ],
      "metadata": {
        "id": "AKKpcdCtGSO8"
      }
    },
    {
      "cell_type": "code",
      "execution_count": null,
      "metadata": {
        "id": "r93_SW6kNYyz"
      },
      "outputs": [],
      "source": [
        "!python train.py --img 416 --batch 16 --epochs 30 --data dataset.yaml --weights yolov5s.pt --cache "
      ]
    },
    {
      "cell_type": "markdown",
      "source": [
        "Controlliamo i risultati stampandoli a schermo"
      ],
      "metadata": {
        "id": "YBdYCYu5GuJs"
      }
    },
    {
      "cell_type": "code",
      "execution_count": null,
      "metadata": {
        "id": "mzjZGcbppWH5"
      },
      "outputs": [],
      "source": [
        "Image.open('runs/train/exp/train_batch0.jpg')"
      ]
    },
    {
      "cell_type": "code",
      "execution_count": null,
      "metadata": {
        "id": "ALvK-lsGpcmX"
      },
      "outputs": [],
      "source": [
        "Image.open('runs/train/exp/val_batch0_labels.jpg')"
      ]
    },
    {
      "cell_type": "code",
      "execution_count": null,
      "metadata": {
        "id": "4iNGricnPehg"
      },
      "outputs": [],
      "source": [
        "Image.open('runs/train/exp/val_batch0_pred.jpg')"
      ]
    },
    {
      "cell_type": "code",
      "execution_count": null,
      "metadata": {
        "id": "dFNHaro4piZf"
      },
      "outputs": [],
      "source": [
        "\n",
        "file_csv=pd.read_csv('runs/train/exp/results.csv')\n",
        "file_csv.head(-1)\n"
      ]
    },
    {
      "cell_type": "code",
      "execution_count": null,
      "metadata": {
        "id": "IHipLAoJxDhH"
      },
      "outputs": [],
      "source": [
        "Image.open('runs/train/exp/results.png')"
      ]
    },
    {
      "cell_type": "markdown",
      "source": [
        "## **INFERENZA**\n",
        "\n",
        "\n"
      ],
      "metadata": {
        "id": "t5W9qYj2G-Ro"
      }
    },
    {
      "cell_type": "markdown",
      "source": [
        "Facciamo il download del weights migliore cosi da salvarlo in locale e poterlo riutilizzare per inferences future"
      ],
      "metadata": {
        "id": "r2esa1L6HHvx"
      }
    },
    {
      "cell_type": "code",
      "source": [
        "from google.colab import files\n",
        "files.download('runs/train/exp/weights/best.pt')"
      ],
      "metadata": {
        "colab": {
          "base_uri": "https://localhost:8080/",
          "height": 17
        },
        "id": "p24VAnWpiAZ-",
        "outputId": "242117dc-4792-4e03-b74f-c23d543cc5b3"
      },
      "execution_count": null,
      "outputs": [
        {
          "output_type": "display_data",
          "data": {
            "text/plain": [
              "<IPython.core.display.Javascript object>"
            ],
            "application/javascript": [
              "\n",
              "    async function download(id, filename, size) {\n",
              "      if (!google.colab.kernel.accessAllowed) {\n",
              "        return;\n",
              "      }\n",
              "      const div = document.createElement('div');\n",
              "      const label = document.createElement('label');\n",
              "      label.textContent = `Downloading \"${filename}\": `;\n",
              "      div.appendChild(label);\n",
              "      const progress = document.createElement('progress');\n",
              "      progress.max = size;\n",
              "      div.appendChild(progress);\n",
              "      document.body.appendChild(div);\n",
              "\n",
              "      const buffers = [];\n",
              "      let downloaded = 0;\n",
              "\n",
              "      const channel = await google.colab.kernel.comms.open(id);\n",
              "      // Send a message to notify the kernel that we're ready.\n",
              "      channel.send({})\n",
              "\n",
              "      for await (const message of channel.messages) {\n",
              "        // Send a message to notify the kernel that we're ready.\n",
              "        channel.send({})\n",
              "        if (message.buffers) {\n",
              "          for (const buffer of message.buffers) {\n",
              "            buffers.push(buffer);\n",
              "            downloaded += buffer.byteLength;\n",
              "            progress.value = downloaded;\n",
              "          }\n",
              "        }\n",
              "      }\n",
              "      const blob = new Blob(buffers, {type: 'application/binary'});\n",
              "      const a = document.createElement('a');\n",
              "      a.href = window.URL.createObjectURL(blob);\n",
              "      a.download = filename;\n",
              "      div.appendChild(a);\n",
              "      a.click();\n",
              "      div.remove();\n",
              "    }\n",
              "  "
            ]
          },
          "metadata": {}
        },
        {
          "output_type": "display_data",
          "data": {
            "text/plain": [
              "<IPython.core.display.Javascript object>"
            ],
            "application/javascript": [
              "download(\"download_7d072bf5-1009-45d1-9f7d-41baad78a370\", \"best.pt\", 14302837)"
            ]
          },
          "metadata": {}
        }
      ]
    },
    {
      "cell_type": "markdown",
      "source": [
        "Facciamo l'inferenza, tramite detec.py, sui frame video cosi da ottenere delle labels che poi verrano usate per generare le pseudo labels. L' inferenza viene fatta con una threshold di 0.40.\n",
        "I risultati sono salvati in runs/detect/exp"
      ],
      "metadata": {
        "id": "u-LzyLzxHXJ0"
      }
    },
    {
      "cell_type": "code",
      "execution_count": null,
      "metadata": {
        "id": "25Nnrwd8c-ih"
      },
      "outputs": [],
      "source": [
        "!python detect.py --source Olive_Detection_Tracking/keyframe_video --data data/dataset.yaml --weights runs/train/exp/weights/best.pt --save-txt --conf-thres 0.40"
      ]
    },
    {
      "cell_type": "markdown",
      "source": [
        "Creiamo la zip della cartella contenente le labels cosi da poter fare il download e salvarle in locale."
      ],
      "metadata": {
        "id": "Ybm4HpRkIWGE"
      }
    },
    {
      "cell_type": "code",
      "source": [
        "!zip -r labels.zip runs/detect/exp/labels"
      ],
      "metadata": {
        "id": "5HvS-pixupJv"
      },
      "execution_count": null,
      "outputs": []
    },
    {
      "cell_type": "code",
      "source": [
        "from google.colab import files\n",
        "files.download(\"labels.zip\")\n"
      ],
      "metadata": {
        "id": "htIUouvXvH_G"
      },
      "execution_count": null,
      "outputs": []
    },
    {
      "cell_type": "markdown",
      "source": [
        "##**CREAZIONE DATASET TARGET DETECTOR**"
      ],
      "metadata": {
        "id": "N2hQdxxgLCpx"
      }
    },
    {
      "cell_type": "markdown",
      "source": [
        "Caricare la cartella contenente le pseudo labels(\"Results__PseudoLabels\") generate tramite i software contenuti nella seguente repo https://github.com/Lio320/GraphTracking.git "
      ],
      "metadata": {
        "id": "uaKfH0WTMlKW"
      }
    },
    {
      "cell_type": "code",
      "source": [
        "!git clone https://github.com/GretaDanesi18/Olive_Detection_Tracking.git"
      ],
      "metadata": {
        "colab": {
          "base_uri": "https://localhost:8080/"
        },
        "id": "vCgDsw0fbaxd",
        "outputId": "9506dcea-1bd1-4809-8cb0-67f9487dc2d9"
      },
      "execution_count": 4,
      "outputs": [
        {
          "output_type": "stream",
          "name": "stdout",
          "text": [
            "Cloning into 'Olive_Detection_Tracking'...\n",
            "remote: Enumerating objects: 2912, done.\u001b[K\n",
            "remote: Total 2912 (delta 0), reused 0 (delta 0), pack-reused 2912\u001b[K\n",
            "Receiving objects: 100% (2912/2912), 1.60 GiB | 27.69 MiB/s, done.\n",
            "Resolving deltas: 100% (38/38), done.\n",
            "Checking out files: 100% (2809/2809), done.\n"
          ]
        }
      ]
    },
    {
      "cell_type": "code",
      "source": [
        "try:\n",
        "  if not os.path.exists('/content/yolov5/Olive_Detection_Tracking/Psuedo_Labels/images/val'):\n",
        "    os.makedirs('/content/yolov5/Olive_Detection_Tracking/Psuedo_Labels/images/val')\n",
        "\n",
        "except OSError:\n",
        "    print('Errore nella creazione della cartella images/val')\n",
        "\n",
        "try:\n",
        "  if not os.path.exists('/content/yolov5/Olive_Detection_Tracking/Psuedo_Labels/images/train'):\n",
        "    os.makedirs('/content/yolov5/Olive_Detection_Tracking/Psuedo_Labels/images/train')\n",
        "\n",
        "except OSError:\n",
        "    print('Errore nella creazione della cartella images/train')\n",
        "\n",
        "try:\n",
        "  if not os.path.exists('/content/yolov5/Olive_Detection_Tracking/Psuedo_Labels/labels/val'):\n",
        "    os.makedirs('/content/yolov5/Olive_Detection_Tracking/Psuedo_Labels/labels/val')\n",
        "\n",
        "except OSError:\n",
        "    print('Errore nella creazione della cartella labels/val')\n",
        "\n",
        "try:\n",
        "  if not os.path.exists('/content/yolov5/Olive_Detection_Tracking/Psuedo_Labels/labels/train'):\n",
        "    os.makedirs('/content/yolov5/Olive_Detection_Tracking/Psuedo_Labels/labels/train')\n",
        "\n",
        "except OSError:\n",
        "    print('Errore nella creazione della cartella labels/train')\n"
      ],
      "metadata": {
        "id": "NRclyZcbRJ7n"
      },
      "execution_count": 5,
      "outputs": []
    },
    {
      "cell_type": "markdown",
      "source": [
        "Faccio lo split del target dataset cosi da ottenere il dataset per il training e per la validation"
      ],
      "metadata": {
        "id": "ZAth0FycOMG5"
      }
    },
    {
      "cell_type": "code",
      "source": [
        "#array che contiene i file\n",
        "image = []\n",
        "label = [] \n",
        "\n",
        "#path\n",
        "all_data_path = '/content/yolov5/Olive_Detection_Tracking/psuedo_labels_dataset'\n",
        "train_image_path = '/content/yolov5/Olive_Detection_Tracking/Psuedo_Labels/images/train'\n",
        "val_image_path = '/content/yolov5/Olive_Detection_Tracking/Psuedo_Labels/images/val'\n",
        "train_label_path ='/content/yolov5/Olive_Detection_Tracking/Psuedo_Labels/labels/train'\n",
        "val_label_path = '/content/yolov5/Olive_Detection_Tracking/Psuedo_Labels/labels/val'\n",
        "\n",
        "\n",
        "#percentuale per train, val\n",
        "val_ratio = 0.2\n",
        "train_ratio = 0.8\n",
        "\n",
        "#inserisco file negli array corrispondenti\n",
        "for (dirname, dirs, files) in os.walk(all_data_path):\n",
        "    for filename in files:\n",
        "        if filename.endswith('.txt'):\n",
        "            label.append(filename)\n",
        "        else:\n",
        "            image.append(filename)\n",
        "\n",
        "#numero di immagini per train e per val\n",
        "num_train = int(len(image)*train_ratio)\n",
        "num_val = int(len(image)*val_ratio)\n",
        "\n",
        "print(\"Immagini per il training: \", num_train)\n",
        "print(\"Immagini per validation: \", num_val)"
      ],
      "metadata": {
        "id": "PTUs16vCTxef"
      },
      "execution_count": null,
      "outputs": []
    },
    {
      "cell_type": "code",
      "source": [
        "#inserisco image e label in train\n",
        "for i in range(num_train):\n",
        "   file_image = random.choice(image)\n",
        "   file_image_name = file_image.split('.')[0]\n",
        "   file_label =  file_image_name+'.txt'\n",
        "\n",
        "   #sposto i file nella cartella train\n",
        "   shutil.copy(os.path.join(all_data_path, file_image), os.path.join(train_image_path, file_image))\n",
        "   shutil.copy(os.path.join(all_data_path, file_label), os.path.join(train_label_path, file_label))\n",
        "\n",
        "   #rimuovo i file da arrays\n",
        "   image.remove(file_image)\n",
        "   label.remove(file_label)\n",
        "    \n",
        "\n",
        "#inserisco image e label in val  \n",
        "for i in range(num_val):\n",
        "    file_image =random.choice(image) # get name of random image from origin dir\n",
        "    file_image_name = file_image.split('.')[0]\n",
        "    file_label = file_image_name+'.txt'\n",
        "\n",
        "    #move both files into train dir\n",
        "    shutil.copy(os.path.join(all_data_path, file_image), os.path.join(val_image_path, file_image))\n",
        "    shutil.copy(os.path.join(all_data_path, file_label), os.path.join(val_label_path, file_label))\n",
        "    \n",
        "    #rimuovo i file da arrays\n",
        "    image.remove(file_image)\n",
        "    label.remove(file_label)"
      ],
      "metadata": {
        "id": "6mkQFVqZOWFR"
      },
      "execution_count": 7,
      "outputs": []
    },
    {
      "cell_type": "markdown",
      "source": [
        "Cambiare i path all' interno del file target_dataset.yaml in accordo con il proprio dataset"
      ],
      "metadata": {
        "id": "wNFfxY0QNrtz"
      }
    },
    {
      "cell_type": "code",
      "source": [
        "#inserisco target_dataset.yal nella directory 'data'\n",
        "source = 'Olive_Detection_Tracking/target_dataset.yaml'\n",
        "destination = 'data/target_dataset.yaml'\n",
        "shutil.copy(source,destination)"
      ],
      "metadata": {
        "id": "COBh5Ey7JCTH"
      },
      "execution_count": null,
      "outputs": []
    },
    {
      "cell_type": "code",
      "source": [
        "os.getcwd()"
      ],
      "metadata": {
        "id": "c7M5hze_i5Kx"
      },
      "execution_count": null,
      "outputs": []
    },
    {
      "cell_type": "markdown",
      "source": [
        "## **ADDESTRAMENTO TARGET DETECTOR**"
      ],
      "metadata": {
        "id": "txbD1BQmP6ra"
      }
    },
    {
      "cell_type": "code",
      "source": [
        "#Weights & Biases\n",
        "%pip install -q wandb\n",
        "import wandb\n",
        "wandb.login()"
      ],
      "metadata": {
        "id": "8eztMmQJQTRl"
      },
      "execution_count": null,
      "outputs": []
    },
    {
      "cell_type": "markdown",
      "source": [
        "Avviamo l'addestramento"
      ],
      "metadata": {
        "id": "Sfm8mdd5QB4K"
      }
    },
    {
      "cell_type": "code",
      "source": [
        "!python train.py --img 416 --batch 16 --epochs 30 --data target_dataset.yaml --weights yolov5s.pt --cache "
      ],
      "metadata": {
        "id": "M77P6YZwQKZU"
      },
      "execution_count": null,
      "outputs": []
    }
  ],
  "metadata": {
    "accelerator": "GPU",
    "colab": {
      "collapsed_sections": [],
      "name": "YOLOv5_olive.ipynb",
      "provenance": [],
      "authorship_tag": "ABX9TyMg7B4p/4PIWi7VUZtH8hul",
      "include_colab_link": true
    },
    "gpuClass": "standard",
    "kernelspec": {
      "display_name": "Python 3",
      "name": "python3"
    },
    "language_info": {
      "name": "python"
    }
  },
  "nbformat": 4,
  "nbformat_minor": 0
}