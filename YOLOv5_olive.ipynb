{
  "nbformat": 4,
  "nbformat_minor": 0,
  "metadata": {
    "colab": {
      "name": "YOLOv5_olive.ipynb",
      "provenance": [],
      "collapsed_sections": [],
      "authorship_tag": "ABX9TyP5cK5Sy/L0LdJgbu7tpp1j",
      "include_colab_link": true
    },
    "kernelspec": {
      "name": "python3",
      "display_name": "Python 3"
    },
    "language_info": {
      "name": "python"
    },
    "gpuClass": "standard",
    "accelerator": "GPU"
  },
  "cells": [
    {
      "cell_type": "markdown",
      "metadata": {
        "id": "view-in-github",
        "colab_type": "text"
      },
      "source": [
        "<a href=\"https://colab.research.google.com/github/GretaDanesi18/Olive_Detection_Tracking/blob/main/YOLOv5_olive.ipynb\" target=\"_parent\"><img src=\"https://colab.research.google.com/assets/colab-badge.svg\" alt=\"Open In Colab\"/></a>"
      ]
    },
    {
      "cell_type": "code",
      "source": [
        "#clono la repo e installa requisiti"
      ],
      "metadata": {
        "id": "gEFScJCAAcAA"
      },
      "execution_count": 1,
      "outputs": []
    },
    {
      "cell_type": "code",
      "execution_count": null,
      "metadata": {
        "id": "rJLPGLRQgDJQ"
      },
      "outputs": [],
      "source": [
        "!git clone https://github.com/ultralytics/yolov5\n",
        "%cd yolov5\n",
        "! pip install -r requirements.txt"
      ]
    },
    {
      "cell_type": "code",
      "source": [
        "#librerie"
      ],
      "metadata": {
        "id": "laQzo6I5AjYw"
      },
      "execution_count": 3,
      "outputs": []
    },
    {
      "cell_type": "code",
      "source": [
        "import torch #per usare pytorch\n",
        "import os\n",
        "import random \n",
        "import shutil\n",
        "from IPython.display import Image\n",
        "from PIL import Image, ImageDraw\n",
        "import numpy as np\n",
        "import pandas as pd"
      ],
      "metadata": {
        "id": "Ttf8iO2r7-KL"
      },
      "execution_count": 93,
      "outputs": []
    },
    {
      "cell_type": "code",
      "source": [
        "#controllo utilizzo del device GPU oppure CPU"
      ],
      "metadata": {
        "id": "kyWuRB7zAmu9"
      },
      "execution_count": 5,
      "outputs": []
    },
    {
      "cell_type": "code",
      "source": [
        "if torch.cuda.is_available():\n",
        "    device = torch.device('cuda')\n",
        "else:\n",
        "    device = torch.device('cpu')\n",
        "    \n",
        "print('Using PyTorch version:', torch.__version__, ' Device:', device)"
      ],
      "metadata": {
        "id": "jhG6CGpt0mQ5"
      },
      "execution_count": null,
      "outputs": []
    },
    {
      "cell_type": "code",
      "source": [
        "#clono repo con dataset e file yaml"
      ],
      "metadata": {
        "id": "Tq5GmsycAuQo"
      },
      "execution_count": 7,
      "outputs": []
    },
    {
      "cell_type": "code",
      "source": [
        "!git clone https://github.com/GretaDanesi18/Olive_Detection_Tracking.git"
      ],
      "metadata": {
        "id": "jYkL4OdZ3SE4"
      },
      "execution_count": null,
      "outputs": []
    },
    {
      "cell_type": "code",
      "source": [
        "#creo le directory per fare split del dataset"
      ],
      "metadata": {
        "id": "vuYCHlDEA0iJ"
      },
      "execution_count": 10,
      "outputs": []
    },
    {
      "cell_type": "code",
      "source": [
        "os.makedirs('/content/yolov5/Olive_Detection_Tracking/images/val')\n",
        "os.makedirs('/content/yolov5/Olive_Detection_Tracking/images/train')\n",
        "os.makedirs('/content/yolov5/Olive_Detection_Tracking/labels/val')\n",
        "os.makedirs('/content/yolov5/Olive_Detection_Tracking/labels/train')\n",
        "\n"
      ],
      "metadata": {
        "id": "YIUvadpF85ei"
      },
      "execution_count": 9,
      "outputs": []
    },
    {
      "cell_type": "code",
      "source": [
        "#array di appoggio per i dati\n",
        "#percentuali per lo split"
      ],
      "metadata": {
        "id": "tZ0Qb6V9A47G"
      },
      "execution_count": 11,
      "outputs": []
    },
    {
      "cell_type": "code",
      "source": [
        "#array che contiene i file\n",
        "image = []\n",
        "label = [] \n",
        "\n",
        "#path\n",
        "all_data_path = '/content/yolov5/Olive_Detection_Tracking/dataset'\n",
        "train_image_path = '/content/yolov5/Olive_Detection_Tracking/images/train'\n",
        "val_image_path = '/content/yolov5/Olive_Detection_Tracking/images/val'\n",
        "train_label_path ='/content/yolov5/Olive_Detection_Tracking/labels/train'\n",
        "val_label_path = '/content/yolov5/Olive_Detection_Tracking/labels/val'\n",
        "\n",
        "\n",
        "#percentuale per train, val e test\n",
        "val_ratio = 0.2\n",
        "train_ratio = 0.8\n",
        "\n",
        "#inserisco file negli array corrispondenti\n",
        "for (dirname, dirs, files) in os.walk(all_data_path):\n",
        "    for filename in files:\n",
        "        if filename.endswith('.txt'):\n",
        "            label.append(filename)\n",
        "        else:\n",
        "            image.append(filename)\n",
        "\n",
        "#numero di immagini per train e per val\n",
        "num_train = int(len(image)*train_ratio)\n",
        "num_val = int(len(image)*val_ratio)\n",
        "\n",
        "print(\"Immagini per il training: \", num_train)\n",
        "print(\"Immagini per validation: \", num_val)\n",
        "print(image[3])\n",
        "print(label[3])\n"
      ],
      "metadata": {
        "id": "o2f9vJvmC6kl"
      },
      "execution_count": null,
      "outputs": []
    },
    {
      "cell_type": "code",
      "source": [
        "#inserisco dati nelle directory per yolov5"
      ],
      "metadata": {
        "id": "ieAs1ennA-Ug"
      },
      "execution_count": 13,
      "outputs": []
    },
    {
      "cell_type": "code",
      "source": [
        "#inserisco image e label in train\n",
        "for i in range(num_train):\n",
        "   file_image = random.choice(image)\n",
        "   file_image_name = file_image.split('.')[0]\n",
        "   file_label =  file_image_name+'.txt'\n",
        "\n",
        "   #sposto i file nella cartella train\n",
        "   shutil.copy(os.path.join(all_data_path, file_image), os.path.join(train_image_path, file_image))\n",
        "   shutil.copy(os.path.join(all_data_path, file_label), os.path.join(train_label_path, file_label))\n",
        "\n",
        "   #rimuovo i file da arrays\n",
        "   image.remove(file_image)\n",
        "   label.remove(file_label)\n",
        "    \n",
        "\n",
        "#inserisco image e label in val  \n",
        "for i in range(num_val):\n",
        "    file_image =random.choice(image) # get name of random image from origin dir\n",
        "    file_image_name = file_image.split('.')[0]\n",
        "    file_label = file_image_name+'.txt'\n",
        "\n",
        "    #move both files into train dir\n",
        "    shutil.copy(os.path.join(all_data_path, file_image), os.path.join(val_image_path, file_image))\n",
        "    shutil.copy(os.path.join(all_data_path, file_label), os.path.join(val_label_path, file_label))\n",
        "    \n",
        "    #rimuovo i file da arrays\n",
        "    image.remove(file_image)\n",
        "    label.remove(file_label)\n"
      ],
      "metadata": {
        "id": "vqS9BJb6zBxj"
      },
      "execution_count": 78,
      "outputs": []
    },
    {
      "cell_type": "code",
      "source": [
        "#inserisco file yaml in directory data"
      ],
      "metadata": {
        "id": "lahFcG38BNj3"
      },
      "execution_count": 15,
      "outputs": []
    },
    {
      "cell_type": "code",
      "source": [
        "source = 'Olive_Detection_Tracking/dataset.yaml'\n",
        "destination = 'data/dataset.yaml'\n",
        "shutil.copy(source,destination)"
      ],
      "metadata": {
        "id": "gN5JAwB-5XwO"
      },
      "execution_count": null,
      "outputs": []
    },
    {
      "cell_type": "code",
      "source": [
        "#Weights & Biases\n",
        "%pip install -q wandb\n",
        "import wandb\n",
        "wandb.login()"
      ],
      "metadata": {
        "id": "rQuyTZA78HiH"
      },
      "execution_count": null,
      "outputs": []
    },
    {
      "cell_type": "code",
      "source": [
        "#addestramento"
      ],
      "metadata": {
        "id": "hjLF_2kmBTeN"
      },
      "execution_count": 18,
      "outputs": []
    },
    {
      "cell_type": "code",
      "source": [
        "!python train.py --img 416 --batch 16 --epochs 50 --data dataset.yaml --weights yolov5s.pt --cache "
      ],
      "metadata": {
        "id": "r93_SW6kNYyz"
      },
      "execution_count": null,
      "outputs": []
    },
    {
      "cell_type": "code",
      "source": [
        "#visualizzazione dati "
      ],
      "metadata": {
        "id": "WVPNmvmeBjeH"
      },
      "execution_count": 20,
      "outputs": []
    },
    {
      "cell_type": "code",
      "metadata": {
        "id": "1jS9_BxdBBHL"
      },
      "source": [
        "# Start tensorboard\n",
        "# Launch after you have started training\n",
        "# logs save in the folder \"runs\"\n",
        "%load_ext tensorboard\n",
        "%tensorboard --logdir runs"
      ],
      "execution_count": null,
      "outputs": []
    },
    {
      "cell_type": "code",
      "source": [
        "#Controllo dove vengono salvati runs/train/.. i risulati e aggiorna directory"
      ],
      "metadata": {
        "id": "keBLWhqq6-6r"
      },
      "execution_count": 22,
      "outputs": []
    },
    {
      "cell_type": "code",
      "source": [
        "Image.open('runs/train/exp10/train_batch0.jpg')\n"
      ],
      "metadata": {
        "id": "mzjZGcbppWH5"
      },
      "execution_count": null,
      "outputs": []
    },
    {
      "cell_type": "code",
      "source": [
        "Image.open('runs/train/exp10/val_batch0_labels.jpg')"
      ],
      "metadata": {
        "id": "ALvK-lsGpcmX"
      },
      "execution_count": null,
      "outputs": []
    },
    {
      "cell_type": "code",
      "source": [
        "Image.open('runs/train/exp10/val_batch0_pred.jpg')"
      ],
      "metadata": {
        "id": "4iNGricnPehg"
      },
      "execution_count": null,
      "outputs": []
    },
    {
      "cell_type": "code",
      "source": [
        "\n",
        "file_csv=pd.read_csv('runs/train/exp10/results.csv')\n",
        "file_csv.head(-1)\n"
      ],
      "metadata": {
        "id": "dFNHaro4piZf"
      },
      "execution_count": null,
      "outputs": []
    },
    {
      "cell_type": "code",
      "source": [
        "Image.open('runs/train/exp10/results.png')"
      ],
      "metadata": {
        "id": "IHipLAoJxDhH"
      },
      "execution_count": null,
      "outputs": []
    }
  ]
}